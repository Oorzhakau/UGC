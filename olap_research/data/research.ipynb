{
 "cells": [
  {
   "cell_type": "markdown",
   "metadata": {
    "pycharm": {
     "name": "#%% md\n"
    }
   },
   "source": [
    "# Исследование по выбору OLAP хранилища"
   ]
  },
  {
   "cell_type": "markdown",
   "metadata": {
    "pycharm": {
     "name": "#%% md\n"
    }
   },
   "source": [
    "### Список хранилищ для сравнения\n",
    "\n",
    "* Spark\n",
    "* Clickhouse\n",
    "* Vertica\n",
    "\n",
    "Описание структуры приведено в docker-compose.yml (каждое хранилище представлено одной нодой).\n",
    "\n",
    "### Порядок работы\n",
    "\n",
    "1. Подготовка тестовых данных для загрузки в хранилище. Размер выборки - 1М;\n",
    "2. Тестирование обработки загрузки и чтения загруженных данных.\n",
    "3. Тестирование обработки чтения данных при параллельном добавлении данных в базу."
   ]
  },
  {
   "cell_type": "markdown",
   "metadata": {
    "pycharm": {
     "name": "#%% md\n"
    }
   },
   "source": [
    "### Окружение"
   ]
  },
  {
   "cell_type": "code",
   "execution_count": 2,
   "metadata": {
    "pycharm": {
     "name": "#%%\n"
    }
   },
   "outputs": [
    {
     "name": "stdout",
     "output_type": "stream",
     "text": [
      "Python 3.6.9\n",
      "Package                           Version\n",
      "--------------------------------- ---------------\n",
      "argon2-cffi                       20.1.0\n",
      "asn1crypto                        0.24.0\n",
      "async-generator                   1.10\n",
      "attrs                             21.2.0\n",
      "backcall                          0.2.0\n",
      "backports.entry-points-selectable 1.1.0\n",
      "backports.zoneinfo                0.2.1\n",
      "beautifulsoup4                    4.6.0\n",
      "bleach                            3.3.1\n",
      "certifi                           2021.5.30\n",
      "cffi                              1.14.6\n",
      "chardet                           3.0.4\n",
      "charset-normalizer                2.0.3\n",
      "clickhouse-driver                 0.2.5\n",
      "cloudpickle                       1.6.0\n",
      "cryptography                      2.1.4\n",
      "cycler                            0.10.0\n",
      "dataclasses                       0.8\n",
      "decorator                         4.4.2\n",
      "defusedxml                        0.7.1\n",
      "distlib                           0.3.2\n",
      "entrypoints                       0.3\n",
      "filelock                          3.0.12\n",
      "funcy                             1.16\n",
      "future                            0.18.2\n",
      "greenlet                          1.1.0\n",
      "html5lib                          0.999999999\n",
      "httpie                            2.4.0\n",
      "hyperopt                          0.2.5\n",
      "idna                              3.2\n",
      "importlib-metadata                4.6.1\n",
      "importlib-resources               5.2.0\n",
      "ipaddress                         1.0.23\n",
      "ipykernel                         5.5.5\n",
      "ipython                           7.16.1\n",
      "ipython-genutils                  0.2.0\n",
      "ipywidgets                        7.6.3\n",
      "j2cli                             0.3.10\n",
      "jedi                              0.18.0\n",
      "Jinja2                            3.0.1\n",
      "joblib                            1.0.1\n",
      "json-lines                        0.5.0\n",
      "jsonschema                        3.2.0\n",
      "jupyter                           1.0.0\n",
      "jupyter-client                    6.1.12\n",
      "jupyter-console                   6.4.0\n",
      "jupyter-core                      4.7.1\n",
      "jupyterlab-pygments               0.1.2\n",
      "jupyterlab-widgets                1.0.0\n",
      "kafka-python                      2.0.2\n",
      "keyring                           10.6.0\n",
      "keyrings.alt                      3.0\n",
      "kiwisolver                        1.3.1\n",
      "lxml                              4.2.1\n",
      "MarkupSafe                        2.0.1\n",
      "matplotlib                        3.3.4\n",
      "mistune                           0.8.4\n",
      "nbclient                          0.5.3\n",
      "nbconvert                         6.0.7\n",
      "nbformat                          5.1.3\n",
      "nest-asyncio                      1.5.1\n",
      "networkx                          2.5.1\n",
      "notebook                          6.4.0\n",
      "numexpr                           2.7.3\n",
      "numpy                             1.19.5\n",
      "olefile                           0.45.1\n",
      "packaging                         21.0\n",
      "panda                             0.3.1\n",
      "pandas                            0.24.2\n",
      "pandasql                          0.7.3\n",
      "pandocfilters                     1.4.3\n",
      "parso                             0.8.2\n",
      "pbr                               5.6.0\n",
      "pexpect                           4.8.0\n",
      "pickleshare                       0.7.5\n",
      "Pillow                            8.3.1\n",
      "pip                               21.3.1\n",
      "pkgconfig                         1.5.4\n",
      "platformdirs                      2.0.2\n",
      "prometheus-client                 0.11.0\n",
      "prompt-toolkit                    3.0.19\n",
      "ptyprocess                        0.7.0\n",
      "py4j                              0.10.9\n",
      "pycparser                         2.20\n",
      "pycrypto                          2.6.1\n",
      "pydantic                          1.9.2\n",
      "Pygments                          2.9.0\n",
      "PyGObject                         3.26.1\n",
      "pyLDAvis                          3.2.2\n",
      "pyparsing                         2.4.7\n",
      "pyrsistent                        0.18.0\n",
      "PySocks                           1.7.1\n",
      "pyspark                           3.0.1\n",
      "python-apt                        1.6.5+ubuntu0.6\n",
      "python-dateutil                   2.5.2\n",
      "python-dotenv                     0.20.0\n",
      "python-git                        2018.2.1\n",
      "pytz                              2021.1\n",
      "pytz-deprecation-shim             0.1.0.post0\n",
      "pyxdg                             0.25\n",
      "PyYAML                            3.11\n",
      "pyzmq                             22.1.0\n",
      "qtconsole                         5.1.1\n",
      "QtPy                              1.9.0\n",
      "requests                          2.26.0\n",
      "requests-toolbelt                 0.9.1\n",
      "scikit-learn                      0.24.2\n",
      "scipy                             1.5.4\n",
      "seaborn                           0.11.1\n",
      "SecretStorage                     2.3.1\n",
      "Send2Trash                        1.7.1\n",
      "setuptools                        57.3.0\n",
      "six                               1.16.0\n",
      "SQLAlchemy                        1.4.21\n",
      "stevedore                         3.3.0\n",
      "tables                            3.4.2\n",
      "terminado                         0.10.1\n",
      "testpath                          0.5.0\n",
      "threadpoolctl                     2.2.0\n",
      "tornado                           6.1\n",
      "tqdm                              4.61.2\n",
      "traitlets                         4.3.3\n",
      "typing-extensions                 3.10.0.0\n",
      "tzdata                            2022.7\n",
      "tzlocal                           4.2\n",
      "unattended-upgrades               0.1\n",
      "urllib3                           1.26.6\n",
      "vertica-python                    1.2.0\n",
      "virtualenv                        20.6.0\n",
      "virtualenv-clone                  0.5.4\n",
      "virtualenvwrapper                 4.8.4\n",
      "wcwidth                           0.2.5\n",
      "webencodings                      0.5.1\n",
      "wheel                             0.36.2\n",
      "widgetsnbextension                3.5.1\n",
      "yml2json                          1.1.3\n",
      "zipp                              3.5.0\n"
     ]
    }
   ],
   "source": [
    "!python3 --version && python3 -m pip list"
   ]
  },
  {
   "cell_type": "markdown",
   "metadata": {
    "pycharm": {
     "name": "#%% md\n"
    }
   },
   "source": [
    "## Генерация данных"
   ]
  },
  {
   "cell_type": "code",
   "execution_count": 11,
   "metadata": {
    "pycharm": {
     "name": "#%%\n"
    }
   },
   "outputs": [],
   "source": [
    "import csv\n",
    "from csv import reader\n",
    "import random\n",
    "import time\n",
    "import pickle\n",
    "from uuid import uuid4\n",
    "\n",
    "import numpy as np\n",
    "import pandas as pd\n",
    "import scipy.stats as st\n",
    "from tqdm import tqdm"
   ]
  },
  {
   "cell_type": "code",
   "execution_count": 3,
   "metadata": {
    "pycharm": {
     "name": "#%%\n"
    }
   },
   "outputs": [],
   "source": [
    "BATCH_SIZE = 1000 # размер батча для вставки\n",
    "BATCH_NUMBER = 1000 # количетсво батчей\n",
    "USERS_NUMBER = 1000 # количество уникальных пользователей\n",
    "MOVIES_NUMBER = 1000 # количество уникальных фильмов\n",
    "ITERATIONS = 10 # количество итераций для замера времени выполнения запроса к хранилищу\n",
    "BATCH_SIZE_LOAD = 100 # количество записей при вставке под нагрузкой\n",
    "DELAY_LOAD = 0.001 # время задержки между запросами при тестировании под нагрузкой"
   ]
  },
  {
   "cell_type": "code",
   "execution_count": 88,
   "metadata": {
    "pycharm": {
     "name": "#%%\n"
    }
   },
   "outputs": [
    {
     "name": "stderr",
     "output_type": "stream",
     "text": [
      "100%|██████████| 1000/1000 [00:05<00:00, 181.72it/s]\n"
     ]
    }
   ],
   "source": [
    "users_id = [str(uuid4()) for _ in range(USERS_NUMBER)]\n",
    "movies_id = [str(uuid4()) for _ in range(MOVIES_NUMBER)]\n",
    "\n",
    "with open('data.csv', 'w', newline='') as csvfile:\n",
    "    fieldnames = ['user_id', 'movie_id', 'progress']\n",
    "    writer = csv.DictWriter(csvfile, fieldnames=fieldnames)\n",
    "    writer.writeheader()\n",
    "    \n",
    "    for i in tqdm(range(BATCH_NUMBER)):\n",
    "        for j in range(BATCH_SIZE):\n",
    "            writer.writerow(\n",
    "                {\n",
    "                    'user_id': random.choice(users_id),\n",
    "                    'movie_id': random.choice(movies_id),\n",
    "                    'progress': int(i / BATCH_NUMBER * random.uniform(60*60*1.8, 60*60*2.2))\n",
    "                }\n",
    "            )"
   ]
  },
  {
   "cell_type": "markdown",
   "metadata": {
    "pycharm": {
     "name": "#%% md\n"
    }
   },
   "source": [
    "## Загрузка данных в хранилища и тестирование\n",
    "\n",
    "Замеры времени работы производятся:\n",
    "1. Для вставки данных (insert_data);\n",
    "2. Для запросов по получению:\n",
    "    * среднего времени для всех фильмов (select_average_progresses);\n",
    "    * всех последних данных по просмотрам фильмов для конкретного пользователя (select_max_progresses_by_user);\n",
    "    * списка всех фильмов для конкретного пользователя (select_movies_by_user);\n",
    "    * списка пользователей, кто смотрел/смотрит конкретный фильм (select_users_by_movie)."
   ]
  },
  {
   "cell_type": "code",
   "execution_count": 89,
   "metadata": {
    "pycharm": {
     "name": "#%%\n"
    }
   },
   "outputs": [],
   "source": [
    "tests = {\n",
    "    \"insert_data\": None,\n",
    "    \"select_average_progresses\": None,\n",
    "    \"select_max_progresses_by_user\": None,\n",
    "    \"select_movies_by_user\": None,\n",
    "    \"select_users_by_movie\": None,\n",
    "    \"select_average_progresses_under_load\": None,\n",
    "    \"select_max_progresses_by_user_under_load\": None,\n",
    "    \"select_movies_by_user_under_load\": None,\n",
    "    \"select_users_by_movie_under_load\": None,\n",
    "}\n",
    "\n",
    "time_result = {\n",
    "    \"spark\": dict(tests),\n",
    "    \"clickhouse\": dict(tests),\n",
    "    \"vertica\": dict(tests),\n",
    "    \"base\": {\"user_id\": None, \"movie_id\": None}\n",
    "}\n",
    "save_time_measurement()"
   ]
  },
  {
   "cell_type": "code",
   "execution_count": 4,
   "metadata": {
    "pycharm": {
     "name": "#%%\n"
    }
   },
   "outputs": [],
   "source": [
    "def save_time_measurement():\n",
    "    global time_result\n",
    "    \n",
    "    with open('time_result.pickle', 'wb') as file:\n",
    "        pickle.dump(time_result, file)\n",
    "\n",
    "def get_time_measurement():\n",
    "    try:\n",
    "        global time_result\n",
    "\n",
    "        if time_result and not time_result[\"spark\"][\"select_average_progresses\"]:\n",
    "            with open('time_result.pickle', 'rb') as f:\n",
    "                time_result = pickle.load(f)\n",
    "    except NameError:\n",
    "        with open('time_result.pickle', 'rb') as f:\n",
    "            time_result = pickle.load(f)\n",
    "    return time_result"
   ]
  },
  {
   "cell_type": "markdown",
   "metadata": {
    "pycharm": {
     "name": "#%% md\n"
    }
   },
   "source": [
    "## <center>Исследования Apache Spark</center>"
   ]
  },
  {
   "cell_type": "code",
   "execution_count": 82,
   "metadata": {
    "pycharm": {
     "name": "#%%\n"
    }
   },
   "outputs": [],
   "source": [
    "import pyspark\n",
    "from pyspark.sql import SparkSession\n",
    "import pyspark.sql.functions as f\n",
    "from pyspark.sql.functions import col"
   ]
  },
  {
   "cell_type": "markdown",
   "metadata": {
    "pycharm": {
     "name": "#%% md\n"
    }
   },
   "source": [
    "**Установим соединение**"
   ]
  },
  {
   "cell_type": "code",
   "execution_count": 83,
   "metadata": {
    "pycharm": {
     "name": "#%%\n"
    }
   },
   "outputs": [],
   "source": [
    "conf = pyspark.SparkConf()\n",
    "conf.setMaster('spark://spark-master:7077')\n",
    "spark_context = pyspark.SparkContext(conf=conf)"
   ]
  },
  {
   "cell_type": "markdown",
   "metadata": {
    "pycharm": {
     "name": "#%% md\n"
    }
   },
   "source": [
    "**Протестируем запросы по получению данных**"
   ]
  },
  {
   "cell_type": "code",
   "execution_count": 91,
   "metadata": {
    "pycharm": {
     "name": "#%%\n"
    }
   },
   "outputs": [],
   "source": [
    "spark = SparkSession.builder.master('spark://spark-master:7077') \\\n",
    "          .appName(\"SparkReasearch\") \\\n",
    "          .getOrCreate()"
   ]
  },
  {
   "cell_type": "code",
   "execution_count": 92,
   "metadata": {
    "pycharm": {
     "name": "#%%\n"
    }
   },
   "outputs": [
    {
     "name": "stdout",
     "output_type": "stream",
     "text": [
      "+--------------------+--------------------+--------+\n",
      "|             user_id|            movie_id|progress|\n",
      "+--------------------+--------------------+--------+\n",
      "|31e4da92-4311-494...|f6aef32e-5d71-43c...|       0|\n",
      "|b0b50958-6883-434...|01d8cfe9-6149-4d0...|       0|\n",
      "|c09a3a37-4c73-4ea...|f163d612-93b1-4dd...|       0|\n",
      "|3ea24eff-042d-4e5...|92012d2b-2029-40f...|       0|\n",
      "|ee81fe59-3e11-43e...|b9e5e55d-d3e2-44e...|       0|\n",
      "|9c177422-f401-460...|45ea26e2-36b5-413...|       0|\n",
      "|9f00c84c-58c6-484...|05147908-90ce-440...|       0|\n",
      "|91b3b4f4-27a0-450...|5be0ef4d-2fde-4b4...|       0|\n",
      "|66578be3-255a-44a...|ac0338a6-d2f4-422...|       0|\n",
      "|4f0f0d95-706a-489...|b958319d-ec11-41d...|       0|\n",
      "|1adc995d-e4f7-4bb...|2d3fa09f-8899-45e...|       0|\n",
      "|16e856ec-d0e7-4cc...|78b00e7c-910a-4e0...|       0|\n",
      "|7638bfc7-ad3b-430...|7453f612-b16d-45a...|       0|\n",
      "|c3c38778-8c78-409...|60d3614a-0ce1-40c...|       0|\n",
      "|ab450fa5-c481-468...|00471c88-e59d-4b7...|       0|\n",
      "|8ad82fc1-c400-405...|3c539e96-1340-49e...|       0|\n",
      "|983a2715-fe61-473...|c5701700-9ee6-471...|       0|\n",
      "|aca4b16f-d745-4f9...|6e007201-1a83-4ed...|       0|\n",
      "|182565fb-6189-44f...|2a6c088b-6337-427...|       0|\n",
      "|1369d4ba-b2a4-46e...|2a398dc0-7216-417...|       0|\n",
      "+--------------------+--------------------+--------+\n",
      "only showing top 20 rows\n",
      "\n"
     ]
    }
   ],
   "source": [
    "df = spark.read.csv('data.csv', sep=',', inferSchema=True, header=True)\n",
    "df.show()"
   ]
  },
  {
   "cell_type": "markdown",
   "metadata": {
    "pycharm": {
     "name": "#%% md\n"
    }
   },
   "source": [
    "**select average progresses**"
   ]
  },
  {
   "cell_type": "code",
   "execution_count": 93,
   "metadata": {
    "pycharm": {
     "name": "#%%\n"
    }
   },
   "outputs": [
    {
     "name": "stderr",
     "output_type": "stream",
     "text": [
      "100%|██████████| 10/10 [00:10<00:00,  1.07s/it]\n"
     ]
    },
    {
     "name": "stdout",
     "output_type": "stream",
     "text": [
      "Count rows - 1000\n",
      "[Spark] Time select average progresses - 1.0669 sec\n"
     ]
    },
    {
     "data": {
      "text/html": [
       "<div>\n",
       "<style scoped>\n",
       "    .dataframe tbody tr th:only-of-type {\n",
       "        vertical-align: middle;\n",
       "    }\n",
       "\n",
       "    .dataframe tbody tr th {\n",
       "        vertical-align: top;\n",
       "    }\n",
       "\n",
       "    .dataframe thead th {\n",
       "        text-align: right;\n",
       "    }\n",
       "</style>\n",
       "<table border=\"1\" class=\"dataframe\">\n",
       "  <thead>\n",
       "    <tr style=\"text-align: right;\">\n",
       "      <th></th>\n",
       "      <th>movie_id</th>\n",
       "      <th>avg(progress)</th>\n",
       "    </tr>\n",
       "  </thead>\n",
       "  <tbody>\n",
       "    <tr>\n",
       "      <th>0</th>\n",
       "      <td>a8c5c7a5-a27c-4831-bab9-90775bb209ae</td>\n",
       "      <td>3690.175153</td>\n",
       "    </tr>\n",
       "    <tr>\n",
       "      <th>1</th>\n",
       "      <td>e1a09fc4-b0bc-4c31-b308-6a218a781048</td>\n",
       "      <td>3539.524590</td>\n",
       "    </tr>\n",
       "    <tr>\n",
       "      <th>2</th>\n",
       "      <td>6aacaa27-060d-4d83-bacc-6c237d13697a</td>\n",
       "      <td>3636.183976</td>\n",
       "    </tr>\n",
       "    <tr>\n",
       "      <th>3</th>\n",
       "      <td>f7006096-495c-4ba1-ba89-f4d12bdf0f81</td>\n",
       "      <td>3587.597526</td>\n",
       "    </tr>\n",
       "    <tr>\n",
       "      <th>4</th>\n",
       "      <td>63f7397b-d02c-40d4-b396-95c4f84d6802</td>\n",
       "      <td>3654.370443</td>\n",
       "    </tr>\n",
       "  </tbody>\n",
       "</table>\n",
       "</div>"
      ],
      "text/plain": [
       "                               movie_id  avg(progress)\n",
       "0  a8c5c7a5-a27c-4831-bab9-90775bb209ae    3690.175153\n",
       "1  e1a09fc4-b0bc-4c31-b308-6a218a781048    3539.524590\n",
       "2  6aacaa27-060d-4d83-bacc-6c237d13697a    3636.183976\n",
       "3  f7006096-495c-4ba1-ba89-f4d12bdf0f81    3587.597526\n",
       "4  63f7397b-d02c-40d4-b396-95c4f84d6802    3654.370443"
      ]
     },
     "execution_count": 93,
     "metadata": {},
     "output_type": "execute_result"
    }
   ],
   "source": [
    "times = []\n",
    "for i in tqdm(range(ITERATIONS)):\n",
    "    s_t = time.time()\n",
    "    result = df.groupBy('movie_id').agg(f.avg('progress'))\n",
    "    _ = result.collect()\n",
    "    e_t = time.time()\n",
    "    times.append(e_t - s_t)\n",
    "borders = st.t.interval(alpha=0.95, df=len(times)-1, loc=np.mean(times), scale=st.sem(times))\n",
    "time_result[\"spark\"][\"select_average_progresses\"] = borders[1]\n",
    "print(\"Count rows - {}\".format(len(_)))\n",
    "print(\"[Spark] Time select average progresses - {:.4f} sec\".format(np.mean(times)))\n",
    "result_pd = result.toPandas()\n",
    "result_pd.head()"
   ]
  },
  {
   "cell_type": "markdown",
   "metadata": {
    "pycharm": {
     "name": "#%% md\n"
    }
   },
   "source": [
    "**select_max_progresses_by_user**"
   ]
  },
  {
   "cell_type": "code",
   "execution_count": 94,
   "metadata": {
    "pycharm": {
     "name": "#%%\n"
    }
   },
   "outputs": [
    {
     "name": "stderr",
     "output_type": "stream",
     "text": [
      "100%|██████████| 10/10 [00:08<00:00,  1.12it/s]\n"
     ]
    },
    {
     "name": "stdout",
     "output_type": "stream",
     "text": [
      "User_id - 31e4da92-4311-494f-9691-640e478bb5ef\n",
      "Count rows - 621\n",
      "[Spark] Time select max progresses by user - 0.8934 sec\n"
     ]
    },
    {
     "data": {
      "text/html": [
       "<div>\n",
       "<style scoped>\n",
       "    .dataframe tbody tr th:only-of-type {\n",
       "        vertical-align: middle;\n",
       "    }\n",
       "\n",
       "    .dataframe tbody tr th {\n",
       "        vertical-align: top;\n",
       "    }\n",
       "\n",
       "    .dataframe thead th {\n",
       "        text-align: right;\n",
       "    }\n",
       "</style>\n",
       "<table border=\"1\" class=\"dataframe\">\n",
       "  <thead>\n",
       "    <tr style=\"text-align: right;\">\n",
       "      <th></th>\n",
       "      <th>movie_id</th>\n",
       "      <th>max(progress)</th>\n",
       "    </tr>\n",
       "  </thead>\n",
       "  <tbody>\n",
       "    <tr>\n",
       "      <th>0</th>\n",
       "      <td>a8c5c7a5-a27c-4831-bab9-90775bb209ae</td>\n",
       "      <td>6307</td>\n",
       "    </tr>\n",
       "    <tr>\n",
       "      <th>1</th>\n",
       "      <td>6aacaa27-060d-4d83-bacc-6c237d13697a</td>\n",
       "      <td>3767</td>\n",
       "    </tr>\n",
       "    <tr>\n",
       "      <th>2</th>\n",
       "      <td>f7006096-495c-4ba1-ba89-f4d12bdf0f81</td>\n",
       "      <td>6256</td>\n",
       "    </tr>\n",
       "    <tr>\n",
       "      <th>3</th>\n",
       "      <td>63f7397b-d02c-40d4-b396-95c4f84d6802</td>\n",
       "      <td>132</td>\n",
       "    </tr>\n",
       "    <tr>\n",
       "      <th>4</th>\n",
       "      <td>29b54f1b-cda2-4ef4-bd37-ce9679097357</td>\n",
       "      <td>1832</td>\n",
       "    </tr>\n",
       "  </tbody>\n",
       "</table>\n",
       "</div>"
      ],
      "text/plain": [
       "                               movie_id  max(progress)\n",
       "0  a8c5c7a5-a27c-4831-bab9-90775bb209ae           6307\n",
       "1  6aacaa27-060d-4d83-bacc-6c237d13697a           3767\n",
       "2  f7006096-495c-4ba1-ba89-f4d12bdf0f81           6256\n",
       "3  63f7397b-d02c-40d4-b396-95c4f84d6802            132\n",
       "4  29b54f1b-cda2-4ef4-bd37-ce9679097357           1832"
      ]
     },
     "execution_count": 94,
     "metadata": {},
     "output_type": "execute_result"
    }
   ],
   "source": [
    "user_id = df.first()['user_id']\n",
    "times = []\n",
    "for i in tqdm(range(ITERATIONS)):\n",
    "    s_t = time.time()\n",
    "    result = df.filter(col(\"user_id\") == user_id).groupBy('movie_id').agg(f.max('progress'))\n",
    "    _ = result.collect()\n",
    "    e_t = time.time()\n",
    "    times.append(e_t - s_t)\n",
    "borders = st.t.interval(alpha=0.95, df=len(times)-1, loc=np.mean(times), scale=st.sem(times))\n",
    "time_result[\"spark\"][\"select_max_progresses_by_user\"] = borders[1]\n",
    "print(\"User_id - {}\".format(user_id))\n",
    "print(\"Count rows - {}\".format(len(_)))\n",
    "print(\"[Spark] Time select max progresses by user - {:.4f} sec\".format(np.mean(times)))\n",
    "result_pd = result.toPandas()\n",
    "result_pd.head()"
   ]
  },
  {
   "cell_type": "markdown",
   "metadata": {
    "pycharm": {
     "name": "#%% md\n"
    }
   },
   "source": [
    "**select_movies_by_user**"
   ]
  },
  {
   "cell_type": "code",
   "execution_count": 95,
   "metadata": {
    "pycharm": {
     "name": "#%%\n"
    }
   },
   "outputs": [
    {
     "name": "stderr",
     "output_type": "stream",
     "text": [
      "100%|██████████| 10/10 [00:07<00:00,  1.28it/s]\n"
     ]
    },
    {
     "name": "stdout",
     "output_type": "stream",
     "text": [
      "User_id - 31e4da92-4311-494f-9691-640e478bb5ef\n",
      "Count rows - 621\n",
      "[Spark] Time select movies by user - 0.7788 sec\n"
     ]
    },
    {
     "data": {
      "text/html": [
       "<div>\n",
       "<style scoped>\n",
       "    .dataframe tbody tr th:only-of-type {\n",
       "        vertical-align: middle;\n",
       "    }\n",
       "\n",
       "    .dataframe tbody tr th {\n",
       "        vertical-align: top;\n",
       "    }\n",
       "\n",
       "    .dataframe thead th {\n",
       "        text-align: right;\n",
       "    }\n",
       "</style>\n",
       "<table border=\"1\" class=\"dataframe\">\n",
       "  <thead>\n",
       "    <tr style=\"text-align: right;\">\n",
       "      <th></th>\n",
       "      <th>movie_id</th>\n",
       "    </tr>\n",
       "  </thead>\n",
       "  <tbody>\n",
       "    <tr>\n",
       "      <th>0</th>\n",
       "      <td>a8c5c7a5-a27c-4831-bab9-90775bb209ae</td>\n",
       "    </tr>\n",
       "    <tr>\n",
       "      <th>1</th>\n",
       "      <td>6aacaa27-060d-4d83-bacc-6c237d13697a</td>\n",
       "    </tr>\n",
       "    <tr>\n",
       "      <th>2</th>\n",
       "      <td>f7006096-495c-4ba1-ba89-f4d12bdf0f81</td>\n",
       "    </tr>\n",
       "    <tr>\n",
       "      <th>3</th>\n",
       "      <td>63f7397b-d02c-40d4-b396-95c4f84d6802</td>\n",
       "    </tr>\n",
       "    <tr>\n",
       "      <th>4</th>\n",
       "      <td>29b54f1b-cda2-4ef4-bd37-ce9679097357</td>\n",
       "    </tr>\n",
       "  </tbody>\n",
       "</table>\n",
       "</div>"
      ],
      "text/plain": [
       "                               movie_id\n",
       "0  a8c5c7a5-a27c-4831-bab9-90775bb209ae\n",
       "1  6aacaa27-060d-4d83-bacc-6c237d13697a\n",
       "2  f7006096-495c-4ba1-ba89-f4d12bdf0f81\n",
       "3  63f7397b-d02c-40d4-b396-95c4f84d6802\n",
       "4  29b54f1b-cda2-4ef4-bd37-ce9679097357"
      ]
     },
     "execution_count": 95,
     "metadata": {},
     "output_type": "execute_result"
    }
   ],
   "source": [
    "user_id = df.first()['user_id']\n",
    "times = []\n",
    "for i in tqdm(range(ITERATIONS)):\n",
    "    s_t = time.time()\n",
    "    result = df.filter(col(\"user_id\") == user_id).dropDuplicates([\"movie_id\"]).select(\"movie_id\")\n",
    "    _ = result.collect()\n",
    "    e_t = time.time()\n",
    "    times.append(e_t - s_t)\n",
    "borders = st.t.interval(alpha=0.95, df=len(times)-1, loc=np.mean(times), scale=st.sem(times))\n",
    "time_result[\"spark\"][\"select_movies_by_user\"] = borders[1]\n",
    "print(\"User_id - {}\".format(user_id))\n",
    "print(\"Count rows - {}\".format(len(_)))\n",
    "print(\"[Spark] Time select movies by user - {:.4f} sec\".format(np.mean(times)))\n",
    "result_pd = result.toPandas()\n",
    "result_pd.head()"
   ]
  },
  {
   "cell_type": "markdown",
   "metadata": {
    "pycharm": {
     "name": "#%% md\n"
    }
   },
   "source": [
    "**select_users_by_movie**"
   ]
  },
  {
   "cell_type": "code",
   "execution_count": 96,
   "metadata": {
    "pycharm": {
     "name": "#%%\n"
    }
   },
   "outputs": [
    {
     "name": "stderr",
     "output_type": "stream",
     "text": [
      "100%|██████████| 10/10 [00:07<00:00,  1.26it/s]\n"
     ]
    },
    {
     "name": "stdout",
     "output_type": "stream",
     "text": [
      "Movie_id - f6aef32e-5d71-43c0-b667-45d2f4aa060a\n",
      "Count rows - 642\n",
      "[Spark] Time select movies by user - 0.7960 sec\n"
     ]
    },
    {
     "data": {
      "text/html": [
       "<div>\n",
       "<style scoped>\n",
       "    .dataframe tbody tr th:only-of-type {\n",
       "        vertical-align: middle;\n",
       "    }\n",
       "\n",
       "    .dataframe tbody tr th {\n",
       "        vertical-align: top;\n",
       "    }\n",
       "\n",
       "    .dataframe thead th {\n",
       "        text-align: right;\n",
       "    }\n",
       "</style>\n",
       "<table border=\"1\" class=\"dataframe\">\n",
       "  <thead>\n",
       "    <tr style=\"text-align: right;\">\n",
       "      <th></th>\n",
       "      <th>user_id</th>\n",
       "    </tr>\n",
       "  </thead>\n",
       "  <tbody>\n",
       "    <tr>\n",
       "      <th>0</th>\n",
       "      <td>a68f68e5-c11c-4ace-a75b-2178a0db1729</td>\n",
       "    </tr>\n",
       "    <tr>\n",
       "      <th>1</th>\n",
       "      <td>268073bd-25d0-4d0b-91df-7f7f206c9a75</td>\n",
       "    </tr>\n",
       "    <tr>\n",
       "      <th>2</th>\n",
       "      <td>a7705cbc-5936-401a-a6f9-366e8b324e06</td>\n",
       "    </tr>\n",
       "    <tr>\n",
       "      <th>3</th>\n",
       "      <td>2aac51c7-7a6c-48e3-920d-f9df30db7d86</td>\n",
       "    </tr>\n",
       "    <tr>\n",
       "      <th>4</th>\n",
       "      <td>6c2e52c8-89d1-46fb-b7d3-bfbe65e72c92</td>\n",
       "    </tr>\n",
       "  </tbody>\n",
       "</table>\n",
       "</div>"
      ],
      "text/plain": [
       "                                user_id\n",
       "0  a68f68e5-c11c-4ace-a75b-2178a0db1729\n",
       "1  268073bd-25d0-4d0b-91df-7f7f206c9a75\n",
       "2  a7705cbc-5936-401a-a6f9-366e8b324e06\n",
       "3  2aac51c7-7a6c-48e3-920d-f9df30db7d86\n",
       "4  6c2e52c8-89d1-46fb-b7d3-bfbe65e72c92"
      ]
     },
     "execution_count": 96,
     "metadata": {},
     "output_type": "execute_result"
    }
   ],
   "source": [
    "movie_id = df.first()['movie_id']\n",
    "times = []\n",
    "for i in tqdm(range(ITERATIONS)):\n",
    "    s_t = time.time()\n",
    "    result = df.filter(col(\"movie_id\") == movie_id).dropDuplicates([\"user_id\"]).select(\"user_id\")\n",
    "    _ = result.collect()\n",
    "    e_t = time.time()\n",
    "    times.append(e_t - s_t)\n",
    "borders = st.t.interval(alpha=0.95, df=len(times)-1, loc=np.mean(times), scale=st.sem(times))\n",
    "time_result[\"spark\"][\"select_users_by_movie\"] = borders[1]\n",
    "print(\"Movie_id - {}\".format(movie_id))\n",
    "print(\"Count rows - {}\".format(len(_)))\n",
    "print(\"[Spark] Time select movies by user - {:.4f} sec\".format(np.mean(times)))\n",
    "result_pd = result.toPandas()\n",
    "result_pd.head()"
   ]
  },
  {
   "cell_type": "markdown",
   "metadata": {
    "pycharm": {
     "name": "#%% md\n"
    }
   },
   "source": [
    "Замеры времени по агрегационным запросам (95% нижняя граница доверительного интервала)"
   ]
  },
  {
   "cell_type": "code",
   "execution_count": 98,
   "metadata": {
    "pycharm": {
     "name": "#%%\n"
    }
   },
   "outputs": [],
   "source": [
    "save_time_measurement()\n",
    "time_result = get_time_measurement()"
   ]
  },
  {
   "cell_type": "code",
   "execution_count": 99,
   "metadata": {
    "pycharm": {
     "name": "#%%\n"
    }
   },
   "outputs": [
    {
     "data": {
      "text/plain": [
       "{'insert_data': None,\n",
       " 'select_average_progresses': 1.1017745312808997,\n",
       " 'select_max_progresses_by_user': 0.9422370550750439,\n",
       " 'select_movies_by_user': 0.8188158323112225,\n",
       " 'select_users_by_movie': 0.8221653214039026,\n",
       " 'select_average_progresses_under_load': None,\n",
       " 'select_max_progresses_by_user_under_load': None,\n",
       " 'select_movies_by_user_under_load': None,\n",
       " 'select_users_by_movie_under_load': None}"
      ]
     },
     "execution_count": 99,
     "metadata": {},
     "output_type": "execute_result"
    }
   ],
   "source": [
    "time_result[\"spark\"]"
   ]
  },
  {
   "cell_type": "code",
   "execution_count": 100,
   "metadata": {
    "pycharm": {
     "name": "#%%\n"
    }
   },
   "outputs": [],
   "source": [
    "time_result[\"base\"][\"user_id\"] = user_id\n",
    "time_result[\"base\"][\"movie_id\"] = movie_id\n",
    "save_time_measurement()"
   ]
  },
  {
   "cell_type": "code",
   "execution_count": 101,
   "metadata": {
    "pycharm": {
     "name": "#%%\n"
    }
   },
   "outputs": [],
   "source": [
    "del df\n",
    "del result\n",
    "del result_pd"
   ]
  },
  {
   "cell_type": "markdown",
   "metadata": {
    "pycharm": {
     "name": "#%% md\n"
    }
   },
   "source": [
    "## <center>Исследования Clickhouse</center>"
   ]
  },
  {
   "cell_type": "code",
   "execution_count": 2,
   "metadata": {
    "pycharm": {
     "name": "#%%\n"
    }
   },
   "outputs": [],
   "source": [
    "from clickhouse_driver import Client"
   ]
  },
  {
   "cell_type": "markdown",
   "metadata": {
    "pycharm": {
     "name": "#%% md\n"
    }
   },
   "source": [
    "Инициализируем клиента"
   ]
  },
  {
   "cell_type": "code",
   "execution_count": 3,
   "metadata": {
    "pycharm": {
     "name": "#%%\n"
    }
   },
   "outputs": [],
   "source": [
    "clickhouse_client = Client(host='clickhouse')"
   ]
  },
  {
   "cell_type": "markdown",
   "metadata": {
    "pycharm": {
     "name": "#%% md\n"
    }
   },
   "source": [
    "Создадим базу для тестирования времени записи"
   ]
  },
  {
   "cell_type": "code",
   "execution_count": 104,
   "metadata": {
    "pycharm": {
     "name": "#%%\n"
    }
   },
   "outputs": [
    {
     "data": {
      "text/plain": [
       "[]"
      ]
     },
     "execution_count": 104,
     "metadata": {},
     "output_type": "execute_result"
    }
   ],
   "source": [
    "clickhouse_client.execute(\"CREATE DATABASE IF NOT EXISTS test\")"
   ]
  },
  {
   "cell_type": "markdown",
   "metadata": {
    "pycharm": {
     "name": "#%% md\n"
    }
   },
   "source": [
    "Посмотрим существующие базы"
   ]
  },
  {
   "cell_type": "code",
   "execution_count": 105,
   "metadata": {
    "pycharm": {
     "name": "#%%\n"
    }
   },
   "outputs": [
    {
     "data": {
      "text/plain": [
       "[('_temporary_and_external_tables',), ('default',), ('system',), ('test',)]"
      ]
     },
     "execution_count": 105,
     "metadata": {},
     "output_type": "execute_result"
    }
   ],
   "source": [
    "clickhouse_client.execute('SHOW DATABASES')"
   ]
  },
  {
   "cell_type": "code",
   "execution_count": 4,
   "metadata": {
    "pycharm": {
     "name": "#%%\n"
    }
   },
   "outputs": [],
   "source": [
    "QUERIES = {\n",
    "    \"create\": \"\"\"\n",
    "        CREATE TABLE IF NOT EXISTS {}.views (\n",
    "        id String,\n",
    "        user_id String,\n",
    "        movie_id String,\n",
    "        progress Int64\n",
    "        )  Engine=MergeTree() ORDER BY (user_id, movie_id)\n",
    "    \"\"\",\n",
    "    \"insert\": \"\"\"\n",
    "        INSERT INTO {}.views (user_id, movie_id, progress) VALUES\n",
    "    \"\"\",\n",
    "    \"delete\": \"\"\"\n",
    "        ALTER TABLE {}.views DELETE WHERE user_id IS NOT NULL\n",
    "    \"\"\",\n",
    "    \"count\": \"\"\"\n",
    "        SELECT COUNT(*) FROM {}.views\n",
    "    \"\"\",\n",
    "    \"select\": \"\"\"\n",
    "        SELECT * FROM {}.views LIMIT {}\n",
    "    \"\"\",\n",
    "    \"select_average_progresses\": \"\"\"\n",
    "        SELECT movie_id, AVG(progress)\n",
    "        FROM {}.views\n",
    "        GROUP BY movie_id\n",
    "    \"\"\",\n",
    "    \"select_max_progresses_by_user\": \"\"\"\n",
    "        SELECT movie_id, max(progress)\n",
    "        FROM {}.views\n",
    "        WHERE user_id = %(user_id)s\n",
    "        GROUP BY movie_id\n",
    "    \"\"\",\n",
    "    \"select_movies_by_user\": \"\"\"\n",
    "        SELECT DISTINCT (movie_id)\n",
    "        FROM {}.views\n",
    "        WHERE user_id = %(user_id)s\n",
    "    \"\"\",\n",
    "    \"select_users_by_movie\": \"\"\"\n",
    "        SELECT DISTINCT (user_id) FROM {}.views WHERE movie_id = %(movie_id)s\n",
    "    \"\"\",\n",
    "}"
   ]
  },
  {
   "cell_type": "markdown",
   "metadata": {
    "pycharm": {
     "name": "#%% md\n"
    }
   },
   "source": [
    "Создадим таблицу для тестирования запросов чтения"
   ]
  },
  {
   "cell_type": "code",
   "execution_count": 110,
   "metadata": {
    "pycharm": {
     "name": "#%%\n"
    }
   },
   "outputs": [
    {
     "data": {
      "text/plain": [
       "[]"
      ]
     },
     "execution_count": 110,
     "metadata": {},
     "output_type": "execute_result"
    }
   ],
   "source": [
    "query = QUERIES[\"create\"]\n",
    "clickhouse_client.execute(query.format('default'))\n",
    "clickhouse_client.execute(query.format('test'))"
   ]
  },
  {
   "cell_type": "markdown",
   "metadata": {
    "pycharm": {
     "name": "#%% md\n"
    }
   },
   "source": [
    "Посмотрим существующие таблицы"
   ]
  },
  {
   "cell_type": "code",
   "execution_count": 111,
   "metadata": {
    "pycharm": {
     "name": "#%%\n"
    },
    "scrolled": true
   },
   "outputs": [
    {
     "name": "stdout",
     "output_type": "stream",
     "text": [
      "[('views',)]\n",
      "[('views',)]\n"
     ]
    }
   ],
   "source": [
    "print(clickhouse_client.execute('SHOW TABLES FROM default;'))\n",
    "print(clickhouse_client.execute('SHOW TABLES FROM test;'))"
   ]
  },
  {
   "cell_type": "markdown",
   "metadata": {
    "pycharm": {
     "name": "#%% md\n"
    }
   },
   "source": [
    "Опишем список запросов по которым будут производится замеры времени отработки"
   ]
  },
  {
   "cell_type": "markdown",
   "metadata": {
    "pycharm": {
     "name": "#%% md\n"
    }
   },
   "source": [
    "**insert_data**"
   ]
  },
  {
   "cell_type": "code",
   "execution_count": 112,
   "metadata": {
    "pycharm": {
     "name": "#%%\n"
    }
   },
   "outputs": [
    {
     "name": "stderr",
     "output_type": "stream",
     "text": [
      "100%|██████████| 10/10 [00:00<00:00, 81.32it/s]\n"
     ]
    }
   ],
   "source": [
    "times = []\n",
    "database = 'test'\n",
    "for iteration in tqdm(range(ITERATIONS)):\n",
    "    values = []\n",
    "    with open('data.csv', 'r') as file:\n",
    "        csv_reader = reader(file)\n",
    "        header = next(csv_reader)\n",
    "        for idx, row in enumerate(csv_reader):\n",
    "            if idx == BATCH_SIZE:\n",
    "                break\n",
    "            values.append([row[0], row[1], int(row[2])])\n",
    "    s_t = time.time()\n",
    "    clickhouse_client.execute(QUERIES[\"insert\"].format(database), values)\n",
    "    e_t = time.time()\n",
    "    times.append(e_t - s_t)        \n",
    "    clickhouse_client.execute(QUERIES[\"delete\"].format(database))\n",
    "borders = st.t.interval(alpha=0.95, df=len(times)-1, loc=np.mean(times), scale=st.sem(times))\n",
    "time_result[\"clickhouse\"][\"insert_data\"] = borders[1]\n",
    "save_time_measurement()\n",
    "time_result = get_time_measurement()"
   ]
  },
  {
   "cell_type": "markdown",
   "metadata": {
    "pycharm": {
     "name": "#%% md\n"
    }
   },
   "source": [
    "**Для замеров скорости выполнения агрегационных запросов, загрузим ранее сгенерированные данные в Clickhouse**"
   ]
  },
  {
   "cell_type": "code",
   "execution_count": 13,
   "metadata": {
    "pycharm": {
     "name": "#%%\n"
    }
   },
   "outputs": [
    {
     "name": "stdout",
     "output_type": "stream",
     "text": [
      "CPU times: user 2.23 s, sys: 207 ms, total: 2.44 s\n",
      "Wall time: 3.85 s\n"
     ]
    }
   ],
   "source": [
    "%%time\n",
    "database = 'default'\n",
    "values = []\n",
    "with open('data.csv', 'r') as file:\n",
    "    csv_reader = reader(file)\n",
    "    header = next(csv_reader)\n",
    "    for idx, row in enumerate(csv_reader):\n",
    "        values.append([row[0], row[1], int(row[2])])\n",
    "        if len(values) >= BATCH_SIZE:\n",
    "            clickhouse_client.execute(QUERIES[\"insert\"].format(database), values)\n",
    "            values = []\n",
    "if values:\n",
    "    clickhouse_client.execute(QUERIES[\"insert\"].format(database), values)\n",
    "    del values"
   ]
  },
  {
   "cell_type": "code",
   "execution_count": 14,
   "metadata": {
    "pycharm": {
     "name": "#%%\n"
    }
   },
   "outputs": [
    {
     "data": {
      "text/plain": [
       "[('',\n",
       "  '00169d0b-c16b-4fff-83d5-352ffe268428',\n",
       "  '00fb0891-2478-44e9-b3da-eb9711e6f0f0',\n",
       "  605),\n",
       " ('',\n",
       "  '00169d0b-c16b-4fff-83d5-352ffe268428',\n",
       "  '0201c59b-5a22-48f7-928e-94ae4aa94408',\n",
       "  735),\n",
       " ('',\n",
       "  '00169d0b-c16b-4fff-83d5-352ffe268428',\n",
       "  '0270b935-df22-49f0-9f8e-1172c36284b8',\n",
       "  795),\n",
       " ('',\n",
       "  '00169d0b-c16b-4fff-83d5-352ffe268428',\n",
       "  '028b55b3-0846-40b2-966f-a85fdd32babe',\n",
       "  80),\n",
       " ('',\n",
       "  '00169d0b-c16b-4fff-83d5-352ffe268428',\n",
       "  '02d1fe16-00ed-4869-8aff-079d85738019',\n",
       "  284)]"
      ]
     },
     "execution_count": 14,
     "metadata": {},
     "output_type": "execute_result"
    }
   ],
   "source": [
    "clickhouse_client.execute(QUERIES[\"select\"].format(database, 5))"
   ]
  },
  {
   "cell_type": "markdown",
   "metadata": {
    "pycharm": {
     "name": "#%% md\n"
    }
   },
   "source": [
    "Проверим количество записей в хранилище"
   ]
  },
  {
   "cell_type": "code",
   "execution_count": 15,
   "metadata": {
    "pycharm": {
     "name": "#%%\n"
    }
   },
   "outputs": [
    {
     "data": {
      "text/plain": [
       "[(1000000,)]"
      ]
     },
     "execution_count": 15,
     "metadata": {},
     "output_type": "execute_result"
    }
   ],
   "source": [
    "database = 'default'\n",
    "clickhouse_client.execute(QUERIES[\"count\"].format(database))"
   ]
  },
  {
   "cell_type": "markdown",
   "metadata": {
    "pycharm": {
     "name": "#%% md\n"
    }
   },
   "source": [
    "**select average progresses**"
   ]
  },
  {
   "cell_type": "code",
   "execution_count": 117,
   "metadata": {
    "pycharm": {
     "name": "#%%\n"
    }
   },
   "outputs": [
    {
     "name": "stderr",
     "output_type": "stream",
     "text": [
      "100%|██████████| 10/10 [00:00<00:00, 48.05it/s]\n"
     ]
    }
   ],
   "source": [
    "times = []\n",
    "database = 'default'\n",
    "for iteration in tqdm(range(ITERATIONS)):\n",
    "    s_t = time.time()\n",
    "    clickhouse_client.execute(QUERIES[\"select_average_progresses\"].format(database))\n",
    "    e_t = time.time()\n",
    "    times.append(e_t - s_t)        \n",
    "borders = st.t.interval(alpha=0.95, df=len(times)-1, loc=np.mean(times), scale=st.sem(times))\n",
    "time_result[\"clickhouse\"][\"select_average_progresses\"] = borders[1]\n",
    "save_time_measurement()\n",
    "time_result = get_time_measurement()"
   ]
  },
  {
   "cell_type": "markdown",
   "metadata": {
    "pycharm": {
     "name": "#%% md\n"
    }
   },
   "source": [
    "**select_max_progresses_by_user**"
   ]
  },
  {
   "cell_type": "code",
   "execution_count": 118,
   "metadata": {
    "pycharm": {
     "name": "#%%\n"
    }
   },
   "outputs": [
    {
     "name": "stderr",
     "output_type": "stream",
     "text": [
      "100%|██████████| 10/10 [00:00<00:00, 225.99it/s]\n"
     ]
    }
   ],
   "source": [
    "user_id = user_id or time_result[\"base\"][\"user_id\"]\n",
    "times = []\n",
    "database = 'default'\n",
    "for iteration in tqdm(range(ITERATIONS)):\n",
    "    s_t = time.time()\n",
    "    _ = clickhouse_client.execute(\n",
    "        QUERIES[\"select_max_progresses_by_user\"].format(database),\n",
    "        {\"user_id\": user_id}\n",
    "    )\n",
    "    e_t = time.time()\n",
    "    times.append(e_t - s_t)        \n",
    "borders = st.t.interval(alpha=0.95, df=len(times)-1, loc=np.mean(times), scale=st.sem(times))\n",
    "time_result[\"clickhouse\"][\"select_max_progresses_by_user\"] = borders[1]\n",
    "save_time_measurement()\n",
    "time_result = get_time_measurement()"
   ]
  },
  {
   "cell_type": "markdown",
   "metadata": {
    "pycharm": {
     "name": "#%% md\n"
    }
   },
   "source": [
    "**select_movies_by_user**"
   ]
  },
  {
   "cell_type": "code",
   "execution_count": 119,
   "metadata": {
    "pycharm": {
     "name": "#%%\n"
    }
   },
   "outputs": [
    {
     "name": "stderr",
     "output_type": "stream",
     "text": [
      "100%|██████████| 10/10 [00:00<00:00, 286.82it/s]\n"
     ]
    }
   ],
   "source": [
    "user_id = user_id or time_result[\"base\"][\"user_id\"]\n",
    "times = []\n",
    "database = 'default'\n",
    "for iteration in tqdm(range(ITERATIONS)):\n",
    "    s_t = time.time()\n",
    "    _ = clickhouse_client.execute(\n",
    "        QUERIES[\"select_movies_by_user\"].format(database),\n",
    "        {\"user_id\": user_id}\n",
    "    )\n",
    "    e_t = time.time()\n",
    "    times.append(e_t - s_t)        \n",
    "borders = st.t.interval(alpha=0.95, df=len(times)-1, loc=np.mean(times), scale=st.sem(times))\n",
    "time_result[\"clickhouse\"][\"select_movies_by_user\"] = borders[1]\n",
    "save_time_measurement()\n",
    "time_result = get_time_measurement()"
   ]
  },
  {
   "cell_type": "markdown",
   "metadata": {
    "pycharm": {
     "name": "#%% md\n"
    }
   },
   "source": [
    "**select_users_by_movie**"
   ]
  },
  {
   "cell_type": "code",
   "execution_count": 120,
   "metadata": {
    "pycharm": {
     "name": "#%%\n"
    }
   },
   "outputs": [
    {
     "name": "stderr",
     "output_type": "stream",
     "text": [
      "100%|██████████| 10/10 [00:00<00:00, 44.72it/s]\n"
     ]
    }
   ],
   "source": [
    "movie_id = movie_id or time_result[\"base\"][\"movie_id\"]\n",
    "times = []\n",
    "database = 'default'\n",
    "for iteration in tqdm(range(ITERATIONS)):\n",
    "    s_t = time.time()\n",
    "    _ = clickhouse_client.execute(\n",
    "        QUERIES[\"select_users_by_movie\"].format(database),\n",
    "        {\"movie_id\": movie_id}\n",
    "    )\n",
    "    e_t = time.time()\n",
    "    times.append(e_t - s_t)        \n",
    "borders = st.t.interval(alpha=0.95, df=len(times)-1, loc=np.mean(times), scale=st.sem(times))\n",
    "time_result[\"clickhouse\"][\"select_users_by_movie\"] = borders[1]\n",
    "save_time_measurement()\n",
    "time_result = get_time_measurement()"
   ]
  },
  {
   "cell_type": "markdown",
   "metadata": {
    "pycharm": {
     "name": "#%% md\n"
    }
   },
   "source": [
    "**Замеры ранее указанных запросов под нагрузкой порядка 1000 RPS**"
   ]
  },
  {
   "cell_type": "code",
   "execution_count": 121,
   "metadata": {
    "pycharm": {
     "name": "#%%\n"
    }
   },
   "outputs": [],
   "source": [
    "import asyncio\n",
    "\n",
    "BATCH_SIZE_LOAD = 100\n",
    "DELAY_LOAD = 0.001\n",
    "\n",
    "QUERY = \"INSERT INTO default.views (user_id, movie_id, progress) VALUES\"\n",
    "\n",
    "async def update():\n",
    "    while True:\n",
    "        values = [\n",
    "            {\n",
    "                \"user_id\": random.choice(str(uuid4())),\n",
    "                \"movie_id\": random.choice(str(uuid4())),\n",
    "                \"progress\": random.randint(0, 60*60*2),\n",
    "            }\n",
    "            for _ in range(BATCH_SIZE_LOAD)\n",
    "        ]\n",
    "        clickhouse_client.execute(QUERY, values)\n",
    "        await asyncio.sleep(DELAY_LOAD)\n",
    "\n",
    "\n",
    "loop = asyncio.get_event_loop()\n",
    "loop.create_task(update());"
   ]
  },
  {
   "cell_type": "code",
   "execution_count": 122,
   "metadata": {
    "pycharm": {
     "name": "#%%\n"
    }
   },
   "outputs": [
    {
     "name": "stderr",
     "output_type": "stream",
     "text": [
      "100%|██████████| 10/10 [00:00<00:00, 47.06it/s]\n",
      "100%|██████████| 10/10 [00:00<00:00, 340.88it/s]\n",
      "100%|██████████| 10/10 [00:00<00:00, 373.74it/s]\n",
      "100%|██████████| 10/10 [00:00<00:00, 45.76it/s]\n"
     ]
    }
   ],
   "source": [
    "# select average progresses\n",
    "times = []\n",
    "database = 'default'\n",
    "for iteration in tqdm(range(ITERATIONS)):\n",
    "    s_t = time.time()\n",
    "    clickhouse_client.execute(QUERIES[\"select_average_progresses\"].format(database))\n",
    "    e_t = time.time()\n",
    "    times.append(e_t - s_t)        \n",
    "borders = st.t.interval(alpha=0.95, df=len(times)-1, loc=np.mean(times), scale=st.sem(times))\n",
    "time_result[\"clickhouse\"][\"select_average_progresses_under_load\"] = borders[1]\n",
    "save_time_measurement()\n",
    "time_result = get_time_measurement()\n",
    "# select_max_progresses_by_user\n",
    "user_id = user_id or time_result[\"base\"][\"user_id\"]\n",
    "times = []\n",
    "database = 'default'\n",
    "for iteration in tqdm(range(ITERATIONS)):\n",
    "    s_t = time.time()\n",
    "    _ = clickhouse_client.execute(\n",
    "        QUERIES[\"select_max_progresses_by_user\"].format(database),\n",
    "        {\"user_id\": user_id}\n",
    "    )\n",
    "    e_t = time.time()\n",
    "    times.append(e_t - s_t)        \n",
    "borders = st.t.interval(alpha=0.95, df=len(times)-1, loc=np.mean(times), scale=st.sem(times))\n",
    "time_result[\"clickhouse\"][\"select_max_progresses_by_user_under_load\"] = borders[1]\n",
    "save_time_measurement()\n",
    "time_result = get_time_measurement()\n",
    "# select_movies_by_user\n",
    "user_id = user_id or time_result[\"base\"][\"user_id\"]\n",
    "times = []\n",
    "database = 'default'\n",
    "for iteration in tqdm(range(ITERATIONS)):\n",
    "    s_t = time.time()\n",
    "    _ = clickhouse_client.execute(\n",
    "        QUERIES[\"select_movies_by_user\"].format(database),\n",
    "        {\"user_id\": user_id}\n",
    "    )\n",
    "    e_t = time.time()\n",
    "    times.append(e_t - s_t)        \n",
    "borders = st.t.interval(alpha=0.95, df=len(times)-1, loc=np.mean(times), scale=st.sem(times))\n",
    "time_result[\"clickhouse\"][\"select_movies_by_user_under_load\"] = borders[1]\n",
    "save_time_measurement()\n",
    "time_result = get_time_measurement()\n",
    "# select_users_by_movie\n",
    "movie_id = movie_id or time_result[\"base\"][\"movie_id\"]\n",
    "times = []\n",
    "database = 'default'\n",
    "for iteration in tqdm(range(ITERATIONS)):\n",
    "    s_t = time.time()\n",
    "    _ = clickhouse_client.execute(\n",
    "        QUERIES[\"select_users_by_movie\"].format(database),\n",
    "        {\"movie_id\": movie_id}\n",
    "    )\n",
    "    e_t = time.time()\n",
    "    times.append(e_t - s_t)        \n",
    "borders = st.t.interval(alpha=0.95, df=len(times)-1, loc=np.mean(times), scale=st.sem(times))\n",
    "time_result[\"clickhouse\"][\"select_users_by_movie_under_load\"] = borders[1]\n",
    "save_time_measurement()\n",
    "time_result = get_time_measurement()"
   ]
  },
  {
   "cell_type": "code",
   "execution_count": 123,
   "metadata": {
    "pycharm": {
     "name": "#%%\n"
    }
   },
   "outputs": [],
   "source": [
    "loop.stop()"
   ]
  },
  {
   "cell_type": "markdown",
   "metadata": {
    "pycharm": {
     "name": "#%% md\n"
    }
   },
   "source": [
    "**Посмотрим количество добавленных записей в процессе тестирования времени генерации ответов под нагрузкой**"
   ]
  },
  {
   "cell_type": "code",
   "execution_count": 10,
   "metadata": {
    "pycharm": {
     "name": "#%%\n"
    }
   },
   "outputs": [
    {
     "data": {
      "text/plain": [
       "[(1227200,)]"
      ]
     },
     "execution_count": 10,
     "metadata": {},
     "output_type": "execute_result"
    }
   ],
   "source": [
    "clickhouse_client.execute(QUERIES[\"count\"].format('default'))"
   ]
  },
  {
   "cell_type": "code",
   "execution_count": 17,
   "metadata": {
    "pycharm": {
     "name": "#%%\n"
    }
   },
   "outputs": [],
   "source": [
    "time_result = get_time_measurement()"
   ]
  },
  {
   "cell_type": "markdown",
   "metadata": {
    "pycharm": {
     "name": "#%% md\n"
    }
   },
   "source": [
    "Замеры времени по агрегационным запросам (95% нижняя граница доверительного интервала)"
   ]
  },
  {
   "cell_type": "code",
   "execution_count": 18,
   "metadata": {
    "pycharm": {
     "name": "#%%\n"
    }
   },
   "outputs": [
    {
     "data": {
      "text/plain": [
       "{'insert_data': 0.006920485758143514,\n",
       " 'select_average_progresses': 0.023395688345616682,\n",
       " 'select_max_progresses_by_user': 0.0057029482221316935,\n",
       " 'select_movies_by_user': 0.004123628970761127,\n",
       " 'select_users_by_movie': 0.02385726814930142,\n",
       " 'select_average_progresses_under_load': 0.023256511216343256,\n",
       " 'select_max_progresses_by_user_under_load': 0.0031631070324024155,\n",
       " 'select_movies_by_user_under_load': 0.002926766152475889,\n",
       " 'select_users_by_movie_under_load': 0.023804838208832522}"
      ]
     },
     "execution_count": 18,
     "metadata": {},
     "output_type": "execute_result"
    }
   ],
   "source": [
    "time_result[\"clickhouse\"]"
   ]
  },
  {
   "cell_type": "markdown",
   "metadata": {
    "pycharm": {
     "name": "#%% md\n"
    }
   },
   "source": [
    "## <center>Исследования Vertica</center>"
   ]
  },
  {
   "cell_type": "code",
   "execution_count": 19,
   "metadata": {
    "pycharm": {
     "name": "#%%\n"
    }
   },
   "outputs": [],
   "source": [
    "connection_info = {\n",
    "    \"host\": \"vertica\",\n",
    "    \"port\": 5433,\n",
    "    \"user\": \"dbadmin\",\n",
    "    \"password\": \"\",\n",
    "    \"database\": \"docker\",\n",
    "    \"autocommit\": True,\n",
    "} "
   ]
  },
  {
   "cell_type": "code",
   "execution_count": 25,
   "metadata": {
    "pycharm": {
     "name": "#%%\n"
    }
   },
   "outputs": [],
   "source": [
    "QUERIES = {\n",
    "    \"create_schema\": \"\"\"\n",
    "       CREATE SCHEMA IF NOT EXISTS {};\n",
    "    \"\"\",\n",
    "    \"create\": \"\"\"\n",
    "        CREATE TABLE IF NOT EXISTS {}.views (\n",
    "            user_id VARCHAR(50) NOT NULL,\n",
    "            movie_id VARCHAR(50) NOT NULL,\n",
    "            progress INTEGER NOT NULL\n",
    "        ) ORDER BY user_id, movie_id;\n",
    "    \"\"\",\n",
    "    \"insert\": \"\"\"\n",
    "        INSERT INTO {}.views (user_id, movie_id, progress) VALUES (?, ?, ?)\n",
    "    \"\"\",\n",
    "    \"drop\": \"\"\"\n",
    "        DROP TABLE IF EXISTS {}.views;\n",
    "    \"\"\",\n",
    "    \"delete\": \"\"\"\n",
    "        DELETE FROM {}.views;\n",
    "    \"\"\",\n",
    "    \"count\": \"\"\"\n",
    "        SELECT COUNT(*) FROM {}.views\n",
    "    \"\"\",\n",
    "    \"select\": \"\"\"\n",
    "        SELECT * FROM {}.views LIMIT {}\n",
    "    \"\"\",\n",
    "    \"select_average_progresses\": \"\"\"\n",
    "        SELECT movie_id, AVG(progress)\n",
    "        FROM {}.views\n",
    "        GROUP BY movie_id\n",
    "    \"\"\",\n",
    "    \"select_max_progresses_by_user\": \"\"\"\n",
    "        SELECT movie_id, max(progress)\n",
    "        FROM {}.views\n",
    "        WHERE user_id = :user_id\n",
    "        GROUP BY movie_id\n",
    "    \"\"\",\n",
    "    \"select_movies_by_user\": \"\"\"\n",
    "        SELECT DISTINCT (movie_id)\n",
    "        FROM {}.views\n",
    "        WHERE user_id = :user_id\n",
    "    \"\"\",\n",
    "    \"select_users_by_movie\": \"\"\"\n",
    "        SELECT DISTINCT (user_id) FROM {}.views WHERE movie_id = :movie_id\n",
    "    \"\"\",\n",
    "}"
   ]
  },
  {
   "cell_type": "code",
   "execution_count": 21,
   "metadata": {
    "pycharm": {
     "name": "#%%\n"
    }
   },
   "outputs": [],
   "source": [
    "import vertica_python\n",
    "\n",
    "schemas = [\"test\", \"base\"]\n",
    "\n",
    "for schema in schemas:\n",
    "    with vertica_python.connect(**connection_info) as connection:\n",
    "        cursor = connection.cursor()\n",
    "        cursor.execute(QUERIES[\"drop\"].format(schema))"
   ]
  },
  {
   "cell_type": "code",
   "execution_count": 22,
   "metadata": {
    "pycharm": {
     "name": "#%%\n"
    }
   },
   "outputs": [],
   "source": [
    "import vertica_python\n",
    "\n",
    "schema = \"test\"\n",
    "\n",
    "with vertica_python.connect(**connection_info) as connection:\n",
    "    cursor = connection.cursor()\n",
    "    cursor.execute(QUERIES[\"create_schema\"].format(schema))\n",
    "    cursor.execute(QUERIES[\"create\"].format(schema)) "
   ]
  },
  {
   "cell_type": "code",
   "execution_count": 23,
   "metadata": {
    "pycharm": {
     "name": "#%%\n"
    }
   },
   "outputs": [
    {
     "data": {
      "text/plain": [
       "[['views', 'TABLE'], ['views', 'SYSTEM TABLE']]"
      ]
     },
     "execution_count": 23,
     "metadata": {},
     "output_type": "execute_result"
    }
   ],
   "source": [
    "with vertica_python.connect(**connection_info) as connection:\n",
    "    cursor = connection.cursor()\n",
    "    cursor.execute(\"SELECT DISTINCT table_name, table_type FROM all_tables WHERE table_name = 'views'\")\n",
    "    res = cursor.fetchall()\n",
    "res"
   ]
  },
  {
   "cell_type": "markdown",
   "metadata": {
    "pycharm": {
     "name": "#%% md\n"
    }
   },
   "source": [
    "**insert_data**"
   ]
  },
  {
   "cell_type": "code",
   "execution_count": 27,
   "metadata": {
    "pycharm": {
     "name": "#%%\n"
    }
   },
   "outputs": [
    {
     "name": "stderr",
     "output_type": "stream",
     "text": [
      "100%|██████████| 10/10 [00:39<00:00,  4.00s/it]\n"
     ]
    }
   ],
   "source": [
    "times = []\n",
    "schema = \"test\"\n",
    "with vertica_python.connect(**connection_info) as connection:\n",
    "    cursor = connection.cursor()\n",
    "    for iteration in tqdm(range(ITERATIONS)):\n",
    "        values = []\n",
    "        with open(\"data.csv\", \"r\") as file:\n",
    "            csv_reader = reader(file)\n",
    "            header = next(csv_reader)\n",
    "            for idx, row in enumerate(csv_reader):\n",
    "                if idx == BATCH_SIZE:\n",
    "                    break\n",
    "                values.append([row[0], row[1], int(row[2])])\n",
    "        s_t = time.time()\n",
    "        cursor.executemany(QUERIES[\"insert\"].format(schema), values, use_prepared_statements=True)\n",
    "        e_t = time.time()\n",
    "        times.append(e_t - s_t)        \n",
    "        cursor.execute(QUERIES[\"delete\"].format(schema))\n",
    "borders = st.t.interval(alpha=0.95, df=len(times)-1, loc=np.mean(times), scale=st.sem(times))\n",
    "time_result[\"vertica\"][\"insert_data\"] = borders[1]\n",
    "save_time_measurement()\n",
    "time_result = get_time_measurement()"
   ]
  },
  {
   "cell_type": "markdown",
   "metadata": {
    "pycharm": {
     "name": "#%% md\n"
    }
   },
   "source": [
    "**Для замеров скорости выполнения агрегационных запросов, загрузим ранее сгенерированные данные в Vertica**"
   ]
  },
  {
   "cell_type": "code",
   "execution_count": 29,
   "metadata": {
    "pycharm": {
     "name": "#%%\n"
    }
   },
   "outputs": [
    {
     "name": "stdout",
     "output_type": "stream",
     "text": [
      "CPU times: user 43.8 s, sys: 1.95 s, total: 45.7 s\n",
      "Wall time: 1h 8min 56s\n"
     ]
    }
   ],
   "source": [
    "%%time\n",
    "shema = \"test\"\n",
    "values = []\n",
    "with open(\"data.csv\", \"r\") as file, vertica_python.connect(**connection_info) as connection:\n",
    "    cursor = connection.cursor()\n",
    "    csv_reader = reader(file)\n",
    "    header = next(csv_reader)\n",
    "    for idx, row in enumerate(csv_reader):\n",
    "        values.append([row[0], row[1], int(row[2])])\n",
    "        if len(values) >= BATCH_SIZE:\n",
    "            cursor.executemany(QUERIES[\"insert\"].format(shema), values, use_prepared_statements=True)\n",
    "            values = []\n",
    "    if values:\n",
    "        cursor.executemany(QUERIES[\"insert\"].format(shema), values, use_prepared_statements=True)\n",
    "        del values"
   ]
  },
  {
   "cell_type": "markdown",
   "metadata": {
    "pycharm": {
     "name": "#%% md\n"
    }
   },
   "source": [
    "Количество строк в таблице после вставки"
   ]
  },
  {
   "cell_type": "code",
   "execution_count": 30,
   "metadata": {
    "pycharm": {
     "name": "#%%\n"
    }
   },
   "outputs": [
    {
     "name": "stdout",
     "output_type": "stream",
     "text": [
      "[[1000000]]\n"
     ]
    }
   ],
   "source": [
    "with vertica_python.connect(**connection_info) as connection:\n",
    "    cursor = connection.cursor()\n",
    "    cursor.execute(QUERIES[\"count\"].format(schema))\n",
    "    row = cursor.fetchall()\n",
    "print(row)"
   ]
  },
  {
   "cell_type": "markdown",
   "metadata": {
    "pycharm": {
     "name": "#%% md\n"
    }
   },
   "source": [
    "**select average progresses**"
   ]
  },
  {
   "cell_type": "code",
   "execution_count": 32,
   "metadata": {
    "pycharm": {
     "name": "#%%\n"
    }
   },
   "outputs": [
    {
     "name": "stderr",
     "output_type": "stream",
     "text": [
      "100%|██████████| 10/10 [00:02<00:00,  4.76it/s]\n"
     ]
    }
   ],
   "source": [
    "times = []\n",
    "schema = \"test\"\n",
    "with vertica_python.connect(**connection_info) as connection:\n",
    "    cursor = connection.cursor()\n",
    "    for iteration in tqdm(range(ITERATIONS)):\n",
    "        s_t = time.time()\n",
    "        cursor.execute(QUERIES[\"select_average_progresses\"].format(schema))\n",
    "        cursor.fetchall()\n",
    "        e_t = time.time()\n",
    "        times.append(e_t - s_t)        \n",
    "borders = st.t.interval(alpha=0.95, df=len(times)-1, loc=np.mean(times), scale=st.sem(times))\n",
    "time_result[\"vertica\"][\"select_average_progresses\"] = borders[1]\n",
    "save_time_measurement()\n",
    "time_result = get_time_measurement()"
   ]
  },
  {
   "cell_type": "markdown",
   "metadata": {
    "pycharm": {
     "name": "#%% md\n"
    }
   },
   "source": [
    "**select_max_progresses_by_user**"
   ]
  },
  {
   "cell_type": "code",
   "execution_count": 34,
   "metadata": {
    "pycharm": {
     "name": "#%%\n"
    }
   },
   "outputs": [
    {
     "name": "stderr",
     "output_type": "stream",
     "text": [
      "100%|██████████| 10/10 [00:00<00:00, 44.44it/s]\n"
     ]
    }
   ],
   "source": [
    "user_id = time_result[\"base\"][\"user_id\"]\n",
    "times = []\n",
    "schema = \"test\"\n",
    "with vertica_python.connect(**connection_info) as connection:\n",
    "    cursor = connection.cursor()\n",
    "    for iteration in tqdm(range(ITERATIONS)):\n",
    "        s_t = time.time()\n",
    "        cursor.execute(QUERIES[\"select_max_progresses_by_user\"].format(schema), {\"user_id\": user_id})\n",
    "        cursor.fetchall()\n",
    "        e_t = time.time()\n",
    "        times.append(e_t - s_t)\n",
    "borders = st.t.interval(alpha=0.95, df=len(times)-1, loc=np.mean(times), scale=st.sem(times))\n",
    "time_result[\"vertica\"][\"select_max_progresses_by_user\"] = borders[1]\n",
    "save_time_measurement()\n",
    "time_result = get_time_measurement()"
   ]
  },
  {
   "cell_type": "markdown",
   "metadata": {
    "pycharm": {
     "name": "#%% md\n"
    }
   },
   "source": [
    "**select_movies_by_user**"
   ]
  },
  {
   "cell_type": "code",
   "execution_count": 36,
   "metadata": {
    "pycharm": {
     "name": "#%%\n"
    }
   },
   "outputs": [
    {
     "name": "stderr",
     "output_type": "stream",
     "text": [
      "100%|██████████| 10/10 [00:00<00:00, 44.60it/s]\n"
     ]
    }
   ],
   "source": [
    "user_id = time_result[\"base\"][\"user_id\"]\n",
    "times = []\n",
    "schema = \"test\"\n",
    "with vertica_python.connect(**connection_info) as connection:\n",
    "    cursor = connection.cursor()\n",
    "    for iteration in tqdm(range(ITERATIONS)):\n",
    "        s_t = time.time()\n",
    "        cursor.execute(QUERIES[\"select_movies_by_user\"].format(schema), {\"user_id\": user_id})\n",
    "        cursor.fetchall()\n",
    "        e_t = time.time()\n",
    "        times.append(e_t - s_t)        \n",
    "borders = st.t.interval(alpha=0.95, df=len(times)-1, loc=np.mean(times), scale=st.sem(times))\n",
    "time_result[\"vertica\"][\"select_movies_by_user\"] = borders[1]\n",
    "save_time_measurement()\n",
    "time_result = get_time_measurement()"
   ]
  },
  {
   "cell_type": "markdown",
   "metadata": {
    "pycharm": {
     "name": "#%% md\n"
    }
   },
   "source": [
    "**select_users_by_movie**"
   ]
  },
  {
   "cell_type": "code",
   "execution_count": 38,
   "metadata": {
    "pycharm": {
     "name": "#%%\n"
    }
   },
   "outputs": [
    {
     "name": "stderr",
     "output_type": "stream",
     "text": [
      "100%|██████████| 10/10 [00:00<00:00, 27.68it/s]\n"
     ]
    }
   ],
   "source": [
    "movie_id = time_result[\"base\"][\"movie_id\"]\n",
    "times = []\n",
    "schema = \"test\"\n",
    "with vertica_python.connect(**connection_info) as connection:\n",
    "    cursor = connection.cursor()\n",
    "    for iteration in tqdm(range(ITERATIONS)):\n",
    "        s_t = time.time()\n",
    "        cursor.execute(QUERIES[\"select_users_by_movie\"].format(schema), {\"movie_id\": movie_id})\n",
    "        cursor.fetchall()\n",
    "        e_t = time.time()\n",
    "        times.append(e_t - s_t)        \n",
    "borders = st.t.interval(alpha=0.95, df=len(times)-1, loc=np.mean(times), scale=st.sem(times))\n",
    "time_result[\"vertica\"][\"select_users_by_movie\"] = borders[1]\n",
    "save_time_measurement()\n",
    "time_result = get_time_measurement()"
   ]
  },
  {
   "cell_type": "markdown",
   "metadata": {
    "pycharm": {
     "name": "#%% md\n"
    }
   },
   "source": [
    "**Замеры ранее указанных запросов под нагрузкой порядка 1000 RPS**"
   ]
  },
  {
   "cell_type": "code",
   "execution_count": 41,
   "metadata": {
    "pycharm": {
     "name": "#%%\n"
    }
   },
   "outputs": [],
   "source": [
    "import asyncio\n",
    "\n",
    "BATCH_SIZE_LOAD = 100\n",
    "DELAY_LOAD = 0.001\n",
    "\n",
    "QUERY = \"INSERT INTO test.views (user_id, movie_id, progress) VALUES (?, ?, ?)\"\n",
    "\n",
    "async def update():\n",
    "    with vertica_python.connect(**connection_info) as connection:\n",
    "        cursor = connection.cursor()\n",
    "        while True:\n",
    "            values = [\n",
    "                (\n",
    "                    random.choice(str(uuid4())),\n",
    "                    random.choice(str(uuid4())),\n",
    "                    random.randint(0, 60*60*2),\n",
    "                )\n",
    "                for _ in range(BATCH_SIZE_LOAD)\n",
    "            ]\n",
    "            cursor.executemany(QUERY, values, use_prepared_statements=True)\n",
    "            await asyncio.sleep(DELAY_LOAD)\n",
    "\n",
    "loop = asyncio.get_event_loop()\n",
    "loop.create_task(update());"
   ]
  },
  {
   "cell_type": "code",
   "execution_count": 42,
   "metadata": {
    "pycharm": {
     "name": "#%%\n"
    }
   },
   "outputs": [
    {
     "name": "stderr",
     "output_type": "stream",
     "text": [
      "100%|██████████| 10/10 [00:01<00:00,  5.07it/s]\n",
      "100%|██████████| 10/10 [00:00<00:00, 44.84it/s]\n",
      "100%|██████████| 10/10 [00:00<00:00, 47.88it/s]\n",
      "100%|██████████| 10/10 [00:00<00:00, 29.34it/s]\n"
     ]
    }
   ],
   "source": [
    "# select average progresses\n",
    "times = []\n",
    "schema = \"test\"\n",
    "with vertica_python.connect(**connection_info) as connection:\n",
    "    cursor = connection.cursor()\n",
    "    for iteration in tqdm(range(ITERATIONS)):\n",
    "        s_t = time.time()\n",
    "        cursor.execute(QUERIES[\"select_average_progresses\"].format(schema))\n",
    "        cursor.fetchall()\n",
    "        e_t = time.time()\n",
    "        times.append(e_t - s_t)        \n",
    "borders = st.t.interval(alpha=0.95, df=len(times)-1, loc=np.mean(times), scale=st.sem(times))\n",
    "time_result[\"vertica\"][\"select_average_progresses_under_load\"] = borders[1]\n",
    "save_time_measurement()\n",
    "time_result = get_time_measurement()\n",
    "# select_max_progresses_by_user\n",
    "user_id = user_id or time_result[\"base\"][\"user_id\"]\n",
    "times = []\n",
    "with vertica_python.connect(**connection_info) as connection:\n",
    "    cursor = connection.cursor()\n",
    "    for iteration in tqdm(range(ITERATIONS)):\n",
    "        s_t = time.time()\n",
    "        cursor.execute(QUERIES[\"select_max_progresses_by_user\"].format(schema), {\"user_id\": user_id})\n",
    "        cursor.fetchall()\n",
    "        e_t = time.time()\n",
    "        times.append(e_t - s_t)\n",
    "borders = st.t.interval(alpha=0.95, df=len(times)-1, loc=np.mean(times), scale=st.sem(times))\n",
    "time_result[\"vertica\"][\"select_max_progresses_by_user_under_load\"] = borders[1]\n",
    "save_time_measurement()\n",
    "time_result = get_time_measurement()\n",
    "# select_movies_by_user\n",
    "user_id = user_id or time_result[\"base\"][\"user_id\"]\n",
    "times = []\n",
    "with vertica_python.connect(**connection_info) as connection:\n",
    "    cursor = connection.cursor()\n",
    "    for iteration in tqdm(range(ITERATIONS)):\n",
    "        s_t = time.time()\n",
    "        cursor.execute(QUERIES[\"select_movies_by_user\"].format(schema), {\"user_id\": user_id})\n",
    "        cursor.fetchall()\n",
    "        e_t = time.time()\n",
    "        times.append(e_t - s_t)        \n",
    "borders = st.t.interval(alpha=0.95, df=len(times)-1, loc=np.mean(times), scale=st.sem(times))\n",
    "time_result[\"vertica\"][\"select_movies_by_user_under_load\"] = borders[1]\n",
    "save_time_measurement()\n",
    "time_result = get_time_measurement()\n",
    "# select_users_by_movie\n",
    "movie_id = movie_id or time_result[\"base\"][\"movie_id\"]\n",
    "times = []\n",
    "with vertica_python.connect(**connection_info) as connection:\n",
    "    cursor = connection.cursor()\n",
    "    for iteration in tqdm(range(ITERATIONS)):\n",
    "        s_t = time.time()\n",
    "        cursor.execute(QUERIES[\"select_users_by_movie\"].format(schema), {\"movie_id\": movie_id})\n",
    "        cursor.fetchall()\n",
    "        e_t = time.time()\n",
    "        times.append(e_t - s_t)        \n",
    "borders = st.t.interval(alpha=0.95, df=len(times)-1, loc=np.mean(times), scale=st.sem(times))\n",
    "time_result[\"vertica\"][\"select_users_by_movie_under_load\"] = borders[1]\n",
    "save_time_measurement()\n",
    "time_result = get_time_measurement()"
   ]
  },
  {
   "cell_type": "markdown",
   "metadata": {
    "pycharm": {
     "name": "#%% md\n"
    }
   },
   "source": [
    "Остановим асинхронный процесс записи и переподключимся к kernel"
   ]
  },
  {
   "cell_type": "code",
   "execution_count": 43,
   "metadata": {
    "pycharm": {
     "name": "#%%\n"
    }
   },
   "outputs": [],
   "source": [
    "loop.stop()"
   ]
  },
  {
   "cell_type": "code",
   "execution_count": 7,
   "metadata": {
    "pycharm": {
     "name": "#%%\n"
    }
   },
   "outputs": [
    {
     "data": {
      "text/plain": [
       "{'spark': {'insert_data': None,\n",
       "  'select_average_progresses': 1.1017745312808997,\n",
       "  'select_max_progresses_by_user': 0.9422370550750439,\n",
       "  'select_movies_by_user': 0.8188158323112225,\n",
       "  'select_users_by_movie': 0.8221653214039026,\n",
       "  'select_average_progresses_under_load': None,\n",
       "  'select_max_progresses_by_user_under_load': None,\n",
       "  'select_movies_by_user_under_load': None,\n",
       "  'select_users_by_movie_under_load': None},\n",
       " 'clickhouse': {'insert_data': 0.006920485758143514,\n",
       "  'select_average_progresses': 0.023395688345616682,\n",
       "  'select_max_progresses_by_user': 0.0057029482221316935,\n",
       "  'select_movies_by_user': 0.004123628970761127,\n",
       "  'select_users_by_movie': 0.02385726814930142,\n",
       "  'select_average_progresses_under_load': 0.023256511216343256,\n",
       "  'select_max_progresses_by_user_under_load': 0.0031631070324024155,\n",
       "  'select_movies_by_user_under_load': 0.002926766152475889,\n",
       "  'select_users_by_movie_under_load': 0.023804838208832522},\n",
       " 'vertica': {'insert_data': 1.5422243078973354,\n",
       "  'select_average_progresses': 0.24126471826556412,\n",
       "  'select_max_progresses_by_user': 0.029064902864604895,\n",
       "  'select_movies_by_user': 0.02396671801309464,\n",
       "  'select_users_by_movie': 0.03862213582902008,\n",
       "  'select_average_progresses_under_load': 0.2002379363366207,\n",
       "  'select_max_progresses_by_user_under_load': 0.024380828340777098,\n",
       "  'select_movies_by_user_under_load': 0.02187846202215112,\n",
       "  'select_users_by_movie_under_load': 0.03494102170288256},\n",
       " 'base': {'user_id': '31e4da92-4311-494f-9691-640e478bb5ef',\n",
       "  'movie_id': 'f6aef32e-5d71-43c0-b667-45d2f4aa060a'}}"
      ]
     },
     "execution_count": 7,
     "metadata": {},
     "output_type": "execute_result"
    }
   ],
   "source": [
    "time_result = get_time_measurement()\n",
    "time_result"
   ]
  },
  {
   "cell_type": "markdown",
   "source": [
    "# Результаты\n",
    "\n",
    "Таблица затрачиваемого времени для вставки и чтения данных в рассматриваемые хранилища приведена ниже (значения верхней границы 95% доверительного интервала)."
   ],
   "metadata": {
    "collapsed": false,
    "pycharm": {
     "name": "#%% md\n"
    }
   }
  },
  {
   "cell_type": "code",
   "execution_count": 57,
   "metadata": {
    "pycharm": {
     "name": "#%%\n"
    }
   },
   "outputs": [
    {
     "data": {
      "text/html": [
       "<div>\n",
       "<style scoped>\n",
       "    .dataframe tbody tr th:only-of-type {\n",
       "        vertical-align: middle;\n",
       "    }\n",
       "\n",
       "    .dataframe tbody tr th {\n",
       "        vertical-align: top;\n",
       "    }\n",
       "\n",
       "    .dataframe thead th {\n",
       "        text-align: right;\n",
       "    }\n",
       "</style>\n",
       "<table border=\"1\" class=\"dataframe\">\n",
       "  <thead>\n",
       "    <tr style=\"text-align: right;\">\n",
       "      <th></th>\n",
       "      <th>Spark, ms</th>\n",
       "      <th>Clickhouse, ms</th>\n",
       "      <th>Vertica, ms</th>\n",
       "      <th>Vertica / Clickhouse</th>\n",
       "    </tr>\n",
       "  </thead>\n",
       "  <tbody>\n",
       "    <tr>\n",
       "      <th>insert_data</th>\n",
       "      <td>NaN</td>\n",
       "      <td>6.920486</td>\n",
       "      <td>1542.224308</td>\n",
       "      <td>222.849141</td>\n",
       "    </tr>\n",
       "    <tr>\n",
       "      <th>select_average_progresses</th>\n",
       "      <td>1101.774531</td>\n",
       "      <td>23.395688</td>\n",
       "      <td>241.264718</td>\n",
       "      <td>10.312358</td>\n",
       "    </tr>\n",
       "    <tr>\n",
       "      <th>select_average_progresses_under_load</th>\n",
       "      <td>NaN</td>\n",
       "      <td>23.256511</td>\n",
       "      <td>200.237936</td>\n",
       "      <td>8.609973</td>\n",
       "    </tr>\n",
       "    <tr>\n",
       "      <th>select_max_progresses_by_user</th>\n",
       "      <td>942.237055</td>\n",
       "      <td>5.702948</td>\n",
       "      <td>29.064903</td>\n",
       "      <td>5.096470</td>\n",
       "    </tr>\n",
       "    <tr>\n",
       "      <th>select_max_progresses_by_user_under_load</th>\n",
       "      <td>NaN</td>\n",
       "      <td>3.163107</td>\n",
       "      <td>24.380828</td>\n",
       "      <td>7.707873</td>\n",
       "    </tr>\n",
       "    <tr>\n",
       "      <th>select_movies_by_user</th>\n",
       "      <td>818.815832</td>\n",
       "      <td>4.123629</td>\n",
       "      <td>23.966718</td>\n",
       "      <td>5.812045</td>\n",
       "    </tr>\n",
       "    <tr>\n",
       "      <th>select_movies_by_user_under_load</th>\n",
       "      <td>NaN</td>\n",
       "      <td>2.926766</td>\n",
       "      <td>21.878462</td>\n",
       "      <td>7.475302</td>\n",
       "    </tr>\n",
       "    <tr>\n",
       "      <th>select_users_by_movie</th>\n",
       "      <td>822.165321</td>\n",
       "      <td>23.857268</td>\n",
       "      <td>38.622136</td>\n",
       "      <td>1.618883</td>\n",
       "    </tr>\n",
       "    <tr>\n",
       "      <th>select_users_by_movie_under_load</th>\n",
       "      <td>NaN</td>\n",
       "      <td>23.804838</td>\n",
       "      <td>34.941022</td>\n",
       "      <td>1.467812</td>\n",
       "    </tr>\n",
       "  </tbody>\n",
       "</table>\n",
       "</div>"
      ],
      "text/plain": [
       "                                            Spark, ms  Clickhouse, ms  \\\n",
       "insert_data                                       NaN        6.920486   \n",
       "select_average_progresses                 1101.774531       23.395688   \n",
       "select_average_progresses_under_load              NaN       23.256511   \n",
       "select_max_progresses_by_user              942.237055        5.702948   \n",
       "select_max_progresses_by_user_under_load          NaN        3.163107   \n",
       "select_movies_by_user                      818.815832        4.123629   \n",
       "select_movies_by_user_under_load                  NaN        2.926766   \n",
       "select_users_by_movie                      822.165321       23.857268   \n",
       "select_users_by_movie_under_load                  NaN       23.804838   \n",
       "\n",
       "                                          Vertica, ms  Vertica / Clickhouse  \n",
       "insert_data                               1542.224308            222.849141  \n",
       "select_average_progresses                  241.264718             10.312358  \n",
       "select_average_progresses_under_load       200.237936              8.609973  \n",
       "select_max_progresses_by_user               29.064903              5.096470  \n",
       "select_max_progresses_by_user_under_load    24.380828              7.707873  \n",
       "select_movies_by_user                       23.966718              5.812045  \n",
       "select_movies_by_user_under_load            21.878462              7.475302  \n",
       "select_users_by_movie                       38.622136              1.618883  \n",
       "select_users_by_movie_under_load            34.941022              1.467812  "
      ]
     },
     "execution_count": 57,
     "metadata": {},
     "output_type": "execute_result"
    }
   ],
   "source": [
    "table = dict(time_result)\n",
    "table.pop(\"base\")\n",
    "table = pd.DataFrame.from_dict(table)\n",
    "table.columns = [\"Spark, ms\", \"Clickhouse, ms\", \"Vertica, ms\"]\n",
    "table = table.iloc[:,:]*1000\n",
    "table[\"Vertica / Clickhouse\"] = table.iloc[:,-1] / table.iloc[:,-2]\n",
    "table"
   ]
  },
  {
   "cell_type": "code",
   "execution_count": 55,
   "metadata": {
    "pycharm": {
     "name": "#%%\n"
    }
   },
   "outputs": [
    {
     "data": {
      "image/png": "[encoded data removed]",
      "text/plain": [
       "<Figure size 1080x720 with 1 Axes>"
      ]
     },
     "metadata": {
      "needs_background": "light"
     },
     "output_type": "display_data"
    }
   ],
   "source": [
    "import matplotlib.pyplot as plt\n",
    "import numpy as np\n",
    "\n",
    "plt.rcParams.update({'font.size': 14})\n",
    "\n",
    "labels = spark_df.index.values.tolist()\n",
    "spark = [value*1000 if value else 0 for value in spark_df.iloc[:, 0].tolist()]\n",
    "clickhouse = [value*1000 if value else 0 for value in clickhouse_df.iloc[:, 0].tolist()]\n",
    "vertica = [value*1000 if value else 0 for value in vertica_df.iloc[:, 0].tolist()]\n",
    "\n",
    "x = np.arange(len(labels))\n",
    "width = 0.2\n",
    "\n",
    "fig, ax = plt.subplots(figsize=(15,10))\n",
    "rects1 = ax.bar(x - width/2, spark, width, label='spark')\n",
    "rects2 = ax.bar(x + width/2, clickhouse, width, label='clickhouse')\n",
    "rects3 = ax.bar(x + 3*width/2, vertica, width, label='vertica')\n",
    "\n",
    "ax.set_ylabel('Time, ms')\n",
    "ax.set_title('Time benchmarks')\n",
    "ax.set_xticks(x)\n",
    "ax.set_xticklabels(labels, rotation=90)\n",
    "ax.legend()\n",
    "\n",
    "plt.show()"
   ]
  },
  {
   "cell_type": "markdown",
   "metadata": {
    "pycharm": {
     "name": "#%% md\n"
    }
   },
   "source": [
    "По проведенным замерам видно, что OLAP хранилище Clickhouse существенно превосходит своих оппонентов, особенно по скорости вставки данных."
   ]
  },
  {
   "cell_type": "markdown",
   "metadata": {
    "pycharm": {
     "name": "#%% md\n"
    }
   },
   "source": [
    "# Список исполнителей\n",
    "\n",
    "* <a href='https://github.com/Oorzhakau'>Ооржак Александр Юрьевич</a>"
   ]
  }
 ],
 "metadata": {
  "kernelspec": {
   "display_name": "Python 3",
   "language": "python",
   "name": "python3"
  },
  "language_info": {
   "codemirror_mode": {
    "name": "ipython",
    "version": 3
   },
   "file_extension": ".py",
   "mimetype": "text/x-python",
   "name": "python",
   "nbconvert_exporter": "python",
   "pygments_lexer": "ipython3",
   "version": "3.6.9"
  }
 },
 "nbformat": 4,
 "nbformat_minor": 1
}