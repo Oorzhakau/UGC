{
 "cells": [
  {
   "cell_type": "markdown",
   "id": "b909b37e",
   "metadata": {
    "pycharm": {
     "name": "#%% md\n"
    }
   },
   "source": [
    "# Исследование по выбору хранилища для данных"
   ]
  },
  {
   "cell_type": "code",
   "execution_count": 1,
   "id": "e0f18f38-cc69-4cc7-8c9a-291cfab35d7c",
   "metadata": {
    "tags": []
   },
   "outputs": [
    {
     "name": "stdout",
     "output_type": "stream",
     "text": [
      "Collecting pydantic\n",
      "  Downloading pydantic-1.10.6-cp310-cp310-manylinux_2_17_x86_64.manylinux2014_x86_64.whl (3.1 MB)\n",
      "\u001b[2K     \u001b[90m━━━━━━━━━━━━━━━━━━━━━━━━━━━━━━━━━━━━━━━━\u001b[0m \u001b[32m3.1/3.1 MB\u001b[0m \u001b[31m3.9 MB/s\u001b[0m eta \u001b[36m0:00:00\u001b[0m00:01\u001b[0m00:01\u001b[0m\n",
      "\u001b[?25hCollecting python-dotenv\n",
      "  Downloading python_dotenv-1.0.0-py3-none-any.whl (19 kB)\n",
      "Collecting psycopg2-binary\n",
      "  Downloading psycopg2_binary-2.9.5-cp310-cp310-manylinux_2_17_x86_64.manylinux2014_x86_64.whl (3.0 MB)\n",
      "\u001b[2K     \u001b[90m━━━━━━━━━━━━━━━━━━━━━━━━━━━━━━━━━━━━━━━━\u001b[0m \u001b[32m3.0/3.0 MB\u001b[0m \u001b[31m4.6 MB/s\u001b[0m eta \u001b[36m0:00:00\u001b[0m00:01\u001b[0m00:01\u001b[0m\n",
      "\u001b[?25hCollecting Faker\n",
      "  Downloading Faker-17.6.0-py3-none-any.whl (1.7 MB)\n",
      "\u001b[2K     \u001b[90m━━━━━━━━━━━━━━━━━━━━━━━━━━━━━━━━━━━━━━━━\u001b[0m \u001b[32m1.7/1.7 MB\u001b[0m \u001b[31m4.2 MB/s\u001b[0m eta \u001b[36m0:00:00\u001b[0m00:01\u001b[0m00:01\u001b[0m\n",
      "\u001b[?25hCollecting pymongo\n",
      "  Downloading pymongo-4.3.3-cp310-cp310-manylinux_2_17_x86_64.manylinux2014_x86_64.whl (492 kB)\n",
      "\u001b[2K     \u001b[90m━━━━━━━━━━━━━━━━━━━━━━━━━━━━━━━━━━━━━━━\u001b[0m \u001b[32m492.9/492.9 kB\u001b[0m \u001b[31m4.3 MB/s\u001b[0m eta \u001b[36m0:00:00\u001b[0m00:01\u001b[0m00:01\u001b[0m\n",
      "\u001b[?25hCollecting matplotlib\n",
      "  Downloading matplotlib-3.7.1-cp310-cp310-manylinux_2_17_x86_64.manylinux2014_x86_64.whl (11.6 MB)\n",
      "\u001b[2K     \u001b[90m━━━━━━━━━━━━━━━━━━━━━━━━━━━━━━━━━━━━━━━━\u001b[0m \u001b[32m11.6/11.6 MB\u001b[0m \u001b[31m4.3 MB/s\u001b[0m eta \u001b[36m0:00:00\u001b[0m00:01\u001b[0m00:01\u001b[0m\n",
      "\u001b[?25hRequirement already satisfied: typing-extensions>=4.2.0 in /opt/conda/lib/python3.10/site-packages (from pydantic->-r requirements.txt (line 1)) (4.4.0)\n",
      "Requirement already satisfied: python-dateutil>=2.4 in /opt/conda/lib/python3.10/site-packages (from Faker->-r requirements.txt (line 4)) (2.8.2)\n",
      "Collecting dnspython<3.0.0,>=1.16.0\n",
      "  Downloading dnspython-2.3.0-py3-none-any.whl (283 kB)\n",
      "\u001b[2K     \u001b[90m━━━━━━━━━━━━━━━━━━━━━━━━━━━━━━━━━━━━━━━\u001b[0m \u001b[32m283.7/283.7 kB\u001b[0m \u001b[31m4.1 MB/s\u001b[0m eta \u001b[36m0:00:00\u001b[0ma \u001b[36m0:00:01\u001b[0m\n",
      "\u001b[?25hCollecting kiwisolver>=1.0.1\n",
      "  Downloading kiwisolver-1.4.4-cp310-cp310-manylinux_2_12_x86_64.manylinux2010_x86_64.whl (1.6 MB)\n",
      "\u001b[2K     \u001b[90m━━━━━━━━━━━━━━━━━━━━━━━━━━━━━━━━━━━━━━━━\u001b[0m \u001b[32m1.6/1.6 MB\u001b[0m \u001b[31m4.2 MB/s\u001b[0m eta \u001b[36m0:00:00\u001b[0m00:01\u001b[0m00:01\u001b[0m\n",
      "\u001b[?25hRequirement already satisfied: packaging>=20.0 in /opt/conda/lib/python3.10/site-packages (from matplotlib->-r requirements.txt (line 6)) (23.0)\n",
      "Collecting fonttools>=4.22.0\n",
      "  Downloading fonttools-4.39.0-py3-none-any.whl (1.0 MB)\n",
      "\u001b[2K     \u001b[90m━━━━━━━━━━━━━━━━━━━━━━━━━━━━━━━━━━━━━━━━\u001b[0m \u001b[32m1.0/1.0 MB\u001b[0m \u001b[31m3.9 MB/s\u001b[0m eta \u001b[36m0:00:00\u001b[0m00:01\u001b[0m00:01\u001b[0m\n",
      "\u001b[?25hCollecting numpy>=1.20\n",
      "  Downloading numpy-1.24.2-cp310-cp310-manylinux_2_17_x86_64.manylinux2014_x86_64.whl (17.3 MB)\n",
      "\u001b[2K     \u001b[90m━━━━━━━━━━━━━━━━━━━━━━━━━━━━━━━━━━━━━━━━\u001b[0m \u001b[32m17.3/17.3 MB\u001b[0m \u001b[31m3.7 MB/s\u001b[0m eta \u001b[36m0:00:00\u001b[0m00:01\u001b[0m00:01\u001b[0m\n",
      "\u001b[?25hCollecting pillow>=6.2.0\n",
      "  Downloading Pillow-9.4.0-cp310-cp310-manylinux_2_28_x86_64.whl (3.4 MB)\n",
      "\u001b[2K     \u001b[90m━━━━━━━━━━━━━━━━━━━━━━━━━━━━━━━━━━━━━━━━\u001b[0m \u001b[32m3.4/3.4 MB\u001b[0m \u001b[31m1.3 MB/s\u001b[0m eta \u001b[36m0:00:00\u001b[0m00:01\u001b[0m00:01\u001b[0m\n",
      "\u001b[?25hCollecting contourpy>=1.0.1\n",
      "  Downloading contourpy-1.0.7-cp310-cp310-manylinux_2_17_x86_64.manylinux2014_x86_64.whl (300 kB)\n",
      "\u001b[2K     \u001b[90m━━━━━━━━━━━━━━━━━━━━━━━━━━━━━━━━━━━━━━━\u001b[0m \u001b[32m300.3/300.3 kB\u001b[0m \u001b[31m1.9 MB/s\u001b[0m eta \u001b[36m0:00:00\u001b[0ma \u001b[36m0:00:01\u001b[0m\n",
      "\u001b[?25hCollecting cycler>=0.10\n",
      "  Downloading cycler-0.11.0-py3-none-any.whl (6.4 kB)\n",
      "Collecting pyparsing>=2.3.1\n",
      "  Downloading pyparsing-3.0.9-py3-none-any.whl (98 kB)\n",
      "\u001b[2K     \u001b[90m━━━━━━━━━━━━━━━━━━━━━━━━━━━━━━━━━━━━━━━━\u001b[0m \u001b[32m98.3/98.3 kB\u001b[0m \u001b[31m2.3 MB/s\u001b[0m eta \u001b[36m0:00:00\u001b[0ma \u001b[36m0:00:01\u001b[0m\n",
      "\u001b[?25hRequirement already satisfied: six>=1.5 in /opt/conda/lib/python3.10/site-packages (from python-dateutil>=2.4->Faker->-r requirements.txt (line 4)) (1.16.0)\n",
      "Installing collected packages: python-dotenv, pyparsing, pydantic, psycopg2-binary, pillow, numpy, kiwisolver, fonttools, dnspython, cycler, pymongo, Faker, contourpy, matplotlib\n",
      "Successfully installed Faker-17.6.0 contourpy-1.0.7 cycler-0.11.0 dnspython-2.3.0 fonttools-4.39.0 kiwisolver-1.4.4 matplotlib-3.7.1 numpy-1.24.2 pillow-9.4.0 psycopg2-binary-2.9.5 pydantic-1.10.6 pymongo-4.3.3 pyparsing-3.0.9 python-dotenv-1.0.0\n"
     ]
    }
   ],
   "source": [
    "!pip install -r requirements.txt"
   ]
  },
  {
   "cell_type": "markdown",
   "id": "e368261b",
   "metadata": {
    "pycharm": {
     "name": "#%% md\n"
    }
   },
   "source": [
    "### Список сравниваемых хранилищ для данных\n",
    "\n",
    "\n",
    "* PostgreSQL\n",
    "* MongoDB"
   ]
  },
  {
   "cell_type": "code",
   "execution_count": 1,
   "id": "00faf0ed",
   "metadata": {
    "pycharm": {
     "name": "#%%\n"
    },
    "tags": []
   },
   "outputs": [],
   "source": [
    "import abc\n",
    "import time\n",
    "import functools\n",
    "import json\n",
    "import os\n",
    "import pprint\n",
    "from datetime import datetime\n",
    "from random import choice, choices, randint\n",
    "from typing import Callable, Optional, Any\n",
    "from uuid import uuid4, uuid1\n",
    "\n",
    "from dotenv import find_dotenv\n",
    "from faker import Faker\n",
    "from pydantic import BaseSettings, Field\n",
    "from pymongo import MongoClient\n",
    "from tqdm import tqdm"
   ]
  },
  {
   "cell_type": "code",
   "execution_count": 2,
   "id": "aa093d6f",
   "metadata": {
    "pycharm": {
     "name": "#%%\n"
    },
    "tags": []
   },
   "outputs": [],
   "source": [
    "class Settings(BaseSettings):\n",
    "    MONGO_HOST: str = Field(default=\"127.0.0.1\")\n",
    "    MONGO_PORT: int = Field(default=27017)\n",
    "    MONGO_DB: str = Field(default=\"ugc_db\")\n",
    "    MONGO_COLL_LIKE: str\n",
    "    MONGO_COLL_REVIEW: str\n",
    "    MONGO_COLL_BOOKMARK: str\n",
    "    \n",
    "    POSTGRES_DB_HOST: str = Field(default=\"127.0.0.1\")\n",
    "    POSTGRES_DB_PORT: int = Field(default=5432)\n",
    "    POSTGRES_DB: str\n",
    "    POSTGRES_USER: str\n",
    "    POSTGRES_PASSWORD: str\n",
    "\n",
    "    BATCH_SIZE: int = Field(default=500, description=\"Размер батча для вставки\")\n",
    "    BATCH_NUMBER: int = Field(default=100, description=\"Количетсво батчей\")\n",
    "    USERS_NUMBER: int = Field(default=1000, description=\"Количество уникальных пользователей\")\n",
    "    MOVIES_NUMBER: int = Field(default=1000, description=\"Количество уникальных фильмов\")\n",
    "    ITERATIONS: int = Field(default=10,description=\"Количество итераций для замера времени выполнения запроса к хранилищу\")\n",
    "    BATCH_SIZE_LOAD: int = Field(default=100, description=\"Количество записей при вставке под нагрузкой\")\n",
    "    DELAY_LOAD: float = Field(default=0.001, description=\"Время задержки между запросами при тестировании под нагрузкой\")\n",
    "    \n",
    "    MIN_RT = 0\n",
    "    MAX_RT = 10\n",
    "    \n",
    "    class Config:\n",
    "        env_file = find_dotenv(filename=\".env\", usecwd=True)\n",
    "        env_file_encoding = 'utf-8'\n",
    "\n",
    "settings = Settings()"
   ]
  },
  {
   "cell_type": "markdown",
   "id": "5cfef59f",
   "metadata": {
    "pycharm": {
     "name": "#%% md\n"
    }
   },
   "source": [
    "## Генерация данных"
   ]
  },
  {
   "cell_type": "code",
   "execution_count": 4,
   "id": "d04f78c1",
   "metadata": {
    "pycharm": {
     "name": "#%%\n"
    },
    "scrolled": true,
    "tags": []
   },
   "outputs": [],
   "source": [
    "class FabricData:\n",
    "    users_id = [str(uuid4()) for _ in range(settings.USERS_NUMBER)]\n",
    "    movies_id = [str(uuid4()) for _ in range(settings.MOVIES_NUMBER)]\n",
    "    fake = Faker()\n",
    "    \n",
    "    def fake_batch(self, event_faker: Callable, users: list = None, batch_size: int = 500) -> list[dict]:\n",
    "        if not users:\n",
    "            users = self.users_id\n",
    "        return [event_faker(user_id=choice(users)) for _ in range(batch_size)]\n",
    "    \n",
    "    def fake_movie_likes(self, user_id: Optional[str] = None, film_id: Optional[str] = None) -> dict:\n",
    "        return {\n",
    "            \"user_id\": user_id if user_id else str(uuid4()),\n",
    "            \"movie_id\": film_id if film_id else str(uuid4()),\n",
    "            \"rt_value\": choice([settings.MIN_RT, settings.MAX_RT]),\n",
    "            \"created\": self.fake.date_time_between(start_date=\"-30d\", end_date=\"-15d\"),\n",
    "            \"modified\": self.fake.date_time_between(start_date=\"-15d\", end_date=\"now\"),\n",
    "        }\n",
    "\n",
    "    def fake_movie_reviews(self, user_id: Optional[str] = None, film_id: Optional[str] = None) -> dict:\n",
    "        return {\n",
    "            \"user_id\": user_id if user_id else str(uuid4()),\n",
    "            \"movie_id\": film_id if film_id else str(uuid4()),\n",
    "            \"review\": self.fake.text(),\n",
    "            \"rating\": randint(0, 500),\n",
    "            \"created\": self.fake.date_time_between(start_date=\"-30d\", end_date=\"-15d\"),\n",
    "            \"modified\": self.fake.date_time_between(start_date=\"-30d\", end_date=\"now\"),\n",
    "        }\n",
    "\n",
    "    def fake_movie_bookmarks(self, user_id: Optional[str] = None, film_id: Optional[str] = None) -> dict:\n",
    "        return {\n",
    "            \"user_id\": user_id if user_id else str(uuid4()),\n",
    "            \"movie_id\": film_id if film_id else str(uuid4()),\n",
    "            \"created\": self.fake.date_time_between(start_date=\"-30d\", end_date=\"-15d\"),\n",
    "        }"
   ]
  },
  {
   "cell_type": "code",
   "execution_count": 3,
   "id": "9dc2ca69-3fa4-4501-8e11-f3684bc7388e",
   "metadata": {
    "tags": []
   },
   "outputs": [],
   "source": [
    "class BaseStorage:\n",
    "    @abc.abstractmethod\n",
    "    def save_state(self, state: dict) -> None:\n",
    "        pass\n",
    "\n",
    "    @abc.abstractmethod\n",
    "    def retrieve_state(self) -> dict:\n",
    "        pass\n",
    "\n",
    "\n",
    "class JsonFileStorage(BaseStorage):\n",
    "    def __init__(self, file_path: str | None = None):\n",
    "        self.file_path = file_path\n",
    "\n",
    "    def save_state(self, state: dict) -> None:\n",
    "        prev_state = self.retrieve_state()\n",
    "        prev_state.update(state)\n",
    "        with open(self.file_path, 'w', encoding='utf-8') as json_file:\n",
    "            json.dump(prev_state, json_file, indent=4, sort_keys=True, default=str)\n",
    "\n",
    "    def retrieve_state(self) -> dict:\n",
    "        try:\n",
    "            with open(self.file_path, 'r', encoding='utf-8') as json_file:\n",
    "                state = json.load(json_file)\n",
    "        except FileNotFoundError:\n",
    "            state = {}\n",
    "        except json.decoder.JSONDecodeError:\n",
    "            state = {}\n",
    "        return state\n",
    "\n",
    "\n",
    "PATH_TO_STORAGE = os.path.join(os.getcwd(), 'benchmarks.json')\n",
    "storage = JsonFileStorage(file_path=PATH_TO_STORAGE)"
   ]
  },
  {
   "cell_type": "markdown",
   "id": "66febc56",
   "metadata": {
    "pycharm": {
     "name": "#%% md\n"
    }
   },
   "source": [
    "## MongoDB"
   ]
  },
  {
   "cell_type": "code",
   "execution_count": 6,
   "id": "15f83c70-af20-4492-b7f4-0f2c23bfba64",
   "metadata": {
    "tags": []
   },
   "outputs": [],
   "source": [
    "class TestMongo:\n",
    "    def __init__(self, settings: Settings, fabric: FabricData, storage: BaseStorage):\n",
    "        self.settings = settings\n",
    "        self.storage = storage\n",
    "        self.fabric = fabric\n",
    "        self.client = self.get_client()\n",
    "    \n",
    "    def get_client(self):\n",
    "        return MongoClient(self.settings.MONGO_HOST, self.settings.MONGO_PORT, connect=True)\n",
    "    \n",
    "    def get_db(self, db: str = \"ugc_db\"):\n",
    "        return self.client[db]\n",
    "    \n",
    "    def get_list_collection_names(self, db: str = \"ugc_db\"):\n",
    "        return self.get_db(db).list_collection_names()\n",
    "    \n",
    "    def get_databases_name(self):\n",
    "        return self.client.get_databases_name()\n",
    "    \n",
    "    def get_count_from_coll(self, coll: str = \"movie_likes\", db: str = \"ugc_db\"):\n",
    "        return self.get_db(db)[coll].count_documents({})\n",
    "    \n",
    "    def clear_collections(self, coll: str, db: str = \"ugc_db\"):\n",
    "        self.get_db(db)[coll].delete_many({})\n",
    "    \n",
    "    def test_insert(self, coll_name: str, db: str = \"ugc_db\"):\n",
    "        \"\"\"Тестирование записи данных.\"\"\"\n",
    "        mongo_db = self.get_db(db)\n",
    "        tmp = []\n",
    "        collection = mongo_db[coll_name]\n",
    "        collection.delete_many({})\n",
    "        for i in range(self.settings.ITERATIONS):\n",
    "            t_tt = 0\n",
    "            for j in range(self.settings.BATCH_NUMBER):\n",
    "                func_name = [i for i in self.fabric.__dir__() if coll_name in i][0]\n",
    "                batch = self.fabric.fake_batch(getattr(self.fabric, func_name), batch_size=self.settings.BATCH_SIZE)\n",
    "                t0 = time.time()\n",
    "                collection.insert_many(batch)\n",
    "                t1 = time.time() - t0\n",
    "                t_tt += t1\n",
    "            tmp.append(t_tt)\n",
    "        mean = sum(tmp) / len(tmp)\n",
    "        result = self.storage.retrieve_state()\n",
    "        if \"mongo\" not in result:\n",
    "            result[\"mongo\"] = {}\n",
    "        result[\"mongo\"].update({func_name: mean})\n",
    "        self.storage.save_state(state={\"mongo\": result[\"mongo\"]})\n",
    "        return result\n",
    "    \n",
    "    def test_read(self, coll_name: str, users: Optional[str] = None, db: str = \"ugc_db\", load: bool = False):\n",
    "        \"\"\"Тестирование чтения данных.\"\"\"\n",
    "        mongo_db = self.get_db(db)\n",
    "        tmp = []\n",
    "        collection = mongo_db[coll_name]\n",
    "        func_name = [i for i in self.fabric.__dir__() if coll_name in i][0]\n",
    "        if not users:\n",
    "            users = choices(self.fabric.users_id, k=10)\n",
    "        if not load:\n",
    "            collection.delete_many({})\n",
    "            for i in range(self.settings.BATCH_NUMBER):\n",
    "                batch = self.fabric.fake_batch(getattr(self.fabric, func_name), users=users, batch_size=self.settings.BATCH_SIZE)\n",
    "                collection.insert_many(batch)\n",
    "        for i in range(self.settings.ITERATIONS):\n",
    "            t_tt = 0\n",
    "            for user in users:\n",
    "                t0 = time.time()\n",
    "                _ = list(collection.find({\"user_id\": user}))\n",
    "                t1 = time.time() - t0\n",
    "                t_tt += t1\n",
    "            tmp.append(t_tt)\n",
    "        mean = sum(tmp) / len(tmp)\n",
    "        result = self.storage.retrieve_state()\n",
    "        if \"mongo\" not in result:\n",
    "            result[\"mongo\"] = {}\n",
    "        key = f\"{func_name}_read\" if not load else f\"{func_name}_read_load\"\n",
    "        result[\"mongo\"].update({key: mean})\n",
    "        self.storage.save_state(state={\"mongo\": result[\"mongo\"]})\n",
    "        return result"
   ]
  },
  {
   "cell_type": "markdown",
   "id": "20fdb783-3455-4af3-ac3b-cc451005e539",
   "metadata": {},
   "source": [
    "### Тестирование записи"
   ]
  },
  {
   "cell_type": "code",
   "execution_count": 7,
   "id": "fb9a94d3-59c4-4a89-9a4e-1c6b75d0c239",
   "metadata": {
    "tags": []
   },
   "outputs": [
    {
     "name": "stdout",
     "output_type": "stream",
     "text": [
      "Load to collection - movie_likes\n",
      "Load docs - 1000000\n",
      "Load to collection - movie_reviews\n",
      "Load docs - 1000000\n",
      "Load to collection - movie_bookmarks\n",
      "Load docs - 1000000\n",
      "{   'mongo': {   'fake_movie_bookmarks': 1.1342878341674805,\n",
      "                 'fake_movie_bookmarks_read': 0.5036333322525024,\n",
      "                 'fake_movie_bookmarks_read_load': 0.7745741367340088,\n",
      "                 'fake_movie_likes': 1.3336148977279663,\n",
      "                 'fake_movie_likes_read': 0.47340807914733884,\n",
      "                 'fake_movie_likes_read_load': 0.7780178546905517,\n",
      "                 'fake_movie_reviews': 1.4179596900939941,\n",
      "                 'fake_movie_reviews_read': 0.5145602226257324,\n",
      "                 'fake_movie_reviews_read_load': 0.870538330078125},\n",
      "    'postgres': {   'fake_movie_bookmarks': 4.64122440814972,\n",
      "                    'fake_movie_bookmarks_read': 0.008490490913391113,\n",
      "                    'fake_movie_bookmarks_read_load': 0.7745741367340088,\n",
      "                    'fake_movie_likes': 4.723430275917053,\n",
      "                    'fake_movie_likes_read': 0.00990300178527832,\n",
      "                    'fake_movie_likes_read_load': 0.7780178546905517,\n",
      "                    'fake_movie_reviews': 5.624714493751526,\n",
      "                    'fake_movie_reviews_read': 0.00955514907836914,\n",
      "                    'fake_movie_reviews_read_load': 0.870538330078125}}\n"
     ]
    }
   ],
   "source": [
    "fabric = FabricData()\n",
    "test_storage = TestMongo(settings=settings, fabric=fabric, storage=storage)\n",
    "collections = test_storage.get_list_collection_names()\n",
    "lst_coll = [settings.MONGO_COLL_LIKE, settings.MONGO_COLL_REVIEW, settings.MONGO_COLL_BOOKMARK]\n",
    "for coll in lst_coll:\n",
    "    print(f\"Load to collection - {coll}\")\n",
    "    result = test_storage.test_insert(coll)\n",
    "    count = test_storage.get_count_from_coll(coll=coll)\n",
    "    print(f\"Load docs - {count}\")\n",
    "    test_storage.clear_collections(coll=coll)\n",
    "pp = pprint.PrettyPrinter(indent=4)\n",
    "pp.pprint(result)"
   ]
  },
  {
   "cell_type": "markdown",
   "id": "cb23cf89-1d87-4c51-8981-35ca716c166a",
   "metadata": {},
   "source": [
    "### Тестирование чтения"
   ]
  },
  {
   "cell_type": "code",
   "execution_count": 8,
   "id": "f27ebb50-3d74-465c-a865-cff186040bc9",
   "metadata": {
    "tags": []
   },
   "outputs": [
    {
     "name": "stdout",
     "output_type": "stream",
     "text": [
      "Load to collection - movie_likes\n",
      "Load docs - 100000\n",
      "Load to collection - movie_reviews\n",
      "Load docs - 100000\n",
      "Load to collection - movie_bookmarks\n",
      "Load docs - 100000\n",
      "{   'mongo': {   'fake_movie_bookmarks': 1.1342878341674805,\n",
      "                 'fake_movie_bookmarks_read': 0.6438698053359986,\n",
      "                 'fake_movie_bookmarks_read_load': 0.7745741367340088,\n",
      "                 'fake_movie_likes': 1.3336148977279663,\n",
      "                 'fake_movie_likes_read': 0.6684442520141601,\n",
      "                 'fake_movie_likes_read_load': 0.7780178546905517,\n",
      "                 'fake_movie_reviews': 1.4179596900939941,\n",
      "                 'fake_movie_reviews_read': 0.7365741491317749,\n",
      "                 'fake_movie_reviews_read_load': 0.870538330078125},\n",
      "    'postgres': {   'fake_movie_bookmarks': 4.64122440814972,\n",
      "                    'fake_movie_bookmarks_read': 0.008490490913391113,\n",
      "                    'fake_movie_bookmarks_read_load': 0.7745741367340088,\n",
      "                    'fake_movie_likes': 4.723430275917053,\n",
      "                    'fake_movie_likes_read': 0.00990300178527832,\n",
      "                    'fake_movie_likes_read_load': 0.7780178546905517,\n",
      "                    'fake_movie_reviews': 5.624714493751526,\n",
      "                    'fake_movie_reviews_read': 0.00955514907836914,\n",
      "                    'fake_movie_reviews_read_load': 0.870538330078125}}\n"
     ]
    }
   ],
   "source": [
    "fabric = FabricData()\n",
    "USERS = choices(fabric.users_id, k=10)\n",
    "test_storage = TestMongo(settings=settings, fabric=fabric, storage=storage)\n",
    "for coll in lst_coll:\n",
    "    print(f\"Load to collection - {coll}\")\n",
    "    result = test_storage.test_read(coll_name=coll, users=USERS)\n",
    "    count = test_storage.get_count_from_coll(coll=coll)\n",
    "    print(f\"Load docs - {count}\")\n",
    "pp = pprint.PrettyPrinter(indent=4)\n",
    "pp.pprint(result)"
   ]
  },
  {
   "cell_type": "markdown",
   "id": "edc5a48a-2a91-49e6-836f-7da69763bc27",
   "metadata": {
    "tags": []
   },
   "source": [
    "### Тестирование чтения при параллельной записи"
   ]
  },
  {
   "cell_type": "markdown",
   "id": "7ce0c326-e7df-432b-be3b-df0dc776b430",
   "metadata": {},
   "source": [
    "Запустим параллельную загрузку данных в коллекции с частоной 1/DELAY_LOAD"
   ]
  },
  {
   "cell_type": "code",
   "execution_count": 13,
   "id": "8685ff8d-fc72-441b-b1f0-0ea6049dc94f",
   "metadata": {
    "tags": []
   },
   "outputs": [],
   "source": [
    "import asyncio\n",
    "\n",
    "BATCH_SIZE_LOAD = settings.BATCH_SIZE_LOAD\n",
    "DELAY_LOAD = settings.DELAY_LOAD\n",
    "\n",
    "async def insert_data(fabric: FabricData, settings: BaseSettings, storage: BaseStorage, coll_name: str = \"movie_likes\"):\n",
    "    mongo = TestMongo(settings=settings, fabric=fabric, storage=storage)\n",
    "    mongo_db = mongo.get_db()\n",
    "    collection = mongo_db[coll_name]\n",
    "    func_name = [i for i in fabric.__dir__() if coll_name in i][0]\n",
    "    while True:\n",
    "        batch = fabric.fake_batch(getattr(fabric, func_name), users=USERS, batch_size=BATCH_SIZE_LOAD)\n",
    "        collection.insert_many(batch)\n",
    "        await asyncio.sleep(DELAY_LOAD)\n",
    "\n",
    "loop = asyncio.get_event_loop()\n",
    "for coll in lst_coll:\n",
    "    loop.create_task(insert_data(fabric=fabric, settings=settings, coll_name=coll))"
   ]
  },
  {
   "cell_type": "code",
   "execution_count": 14,
   "id": "ab22c466-0baf-4e6b-83d4-48d3835c9037",
   "metadata": {
    "tags": []
   },
   "outputs": [
    {
     "name": "stdout",
     "output_type": "stream",
     "text": [
      "Load to collection - movie_likes\n",
      "Load docs - 115300\n",
      "Load to collection - movie_reviews\n",
      "Load docs - 115300\n",
      "Load to collection - movie_bookmarks\n",
      "Load docs - 115300\n",
      "{   'mongo': {   'fake_movie_bookmarks': 1.1348849773406982,\n",
      "                 'fake_movie_bookmarks_read': 0.7065812349319458,\n",
      "                 'fake_movie_bookmarks_read_load': 0.7745741367340088,\n",
      "                 'fake_movie_likes': 1.3482896089553833,\n",
      "                 'fake_movie_likes_read': 0.6598688364028931,\n",
      "                 'fake_movie_likes_read_load': 0.7780178546905517,\n",
      "                 'fake_movie_reviews': 1.4877155303955079,\n",
      "                 'fake_movie_reviews_read': 0.7570814609527587,\n",
      "                 'fake_movie_reviews_read_load': 0.870538330078125}}\n"
     ]
    }
   ],
   "source": [
    "fabric = FabricData()\n",
    "test_storage = TestMongo(settings=settings, fabric=fabric, storage=storage)\n",
    "for coll in lst_coll:\n",
    "    print(f\"Load to collection - {coll}\")\n",
    "    result = test_storage.test_read(coll_name=coll, load=True, users=USERS)\n",
    "    count = test_storage.get_count_from_coll(coll=coll)\n",
    "    print(f\"Load docs - {count}\")\n",
    "pp = pprint.PrettyPrinter(indent=4)\n",
    "pp.pprint(result)"
   ]
  },
  {
   "cell_type": "markdown",
   "id": "d49049b5-0d7e-4d21-8ddb-da487923be56",
   "metadata": {},
   "source": [
    "Остановим ранее запущенные корутины и позже перезапустим ядро"
   ]
  },
  {
   "cell_type": "code",
   "execution_count": 16,
   "id": "0d1e9ef7-b6f0-40bf-b9b4-8867d8d4c29c",
   "metadata": {
    "tags": []
   },
   "outputs": [],
   "source": [
    "loop.stop()"
   ]
  },
  {
   "cell_type": "markdown",
   "id": "faa1fbc4",
   "metadata": {
    "pycharm": {
     "name": "#%% md\n"
    },
    "tags": []
   },
   "source": [
    "## PostgreSQL"
   ]
  },
  {
   "cell_type": "code",
   "execution_count": 9,
   "id": "5cd833da-a453-4413-b62e-2aaefabf13dc",
   "metadata": {
    "tags": []
   },
   "outputs": [],
   "source": [
    "import re\n",
    "from contextlib import contextmanager, closing\n",
    "from dataclasses import astuple\n",
    "from typing import Generator\n",
    "\n",
    "import psycopg2\n",
    "from psycopg2.extras import DictCursor, execute_batch"
   ]
  },
  {
   "cell_type": "code",
   "execution_count": 10,
   "id": "9619c979",
   "metadata": {
    "pycharm": {
     "name": "#%%\n"
    },
    "tags": []
   },
   "outputs": [],
   "source": [
    "class TestPostgres:\n",
    "    def __init__(self, fabric: FabricData, settings: Settings, storage: BaseStorage):\n",
    "        self.settings = settings\n",
    "        self.fabric = fabric\n",
    "        self.storage = storage\n",
    "    \n",
    "    def _connect(self) -> psycopg2.extras.DictCursor:\n",
    "        PG = {\n",
    "            \"database\": self.settings.POSTGRES_DB,\n",
    "            \"user\": self.settings.POSTGRES_USER,\n",
    "            \"password\": self.settings.POSTGRES_PASSWORD,\n",
    "            \"host\": self.settings.POSTGRES_DB_HOST,\n",
    "            \"port\": self.settings.POSTGRES_DB_PORT,\n",
    "        }\n",
    "        connection = psycopg2.connect(**PG, cursor_factory=DictCursor)\n",
    "        return connection\n",
    "    \n",
    "    def get_count_from_coll(self, coll_name: str):\n",
    "        connection = self._connect()\n",
    "        query = \"SELECT count(*) from {};\".format(coll_name)\n",
    "        data = []\n",
    "        with connection.cursor() as cur:\n",
    "            cur.execute(query, data)\n",
    "            result = cur.fetchone()\n",
    "        result = [r for r in result]\n",
    "        connection.close()\n",
    "        return result\n",
    "    \n",
    "    def get_n_rows(self, coll_name : str, n : int = 10):\n",
    "        connection = self._connect()\n",
    "        query = \"SELECT * from {} LIMIT {};\".format(coll_name, n)\n",
    "        data = []\n",
    "        with connection.cursor() as cur:\n",
    "            cur.execute(query, data)\n",
    "            result = cur.fetchall()\n",
    "        connection.close()\n",
    "        return result\n",
    "    \n",
    "    def clear_collections(self, coll_name: str):\n",
    "        connection = self._connect()\n",
    "        query = \"DELETE FROM {};\".format(coll_name)\n",
    "        data = []\n",
    "        with connection.cursor() as cur:\n",
    "            cur.execute(query)\n",
    "        connection.commit()\n",
    "        connection.close()\n",
    "    \n",
    "    def test_insert(self, coll_name: str):\n",
    "        \"\"\"Тестирование записи данных.\"\"\"\n",
    "        connection = self._connect()\n",
    "        tmp = []\n",
    "        with connection.cursor() as cur:\n",
    "            for i in range(self.settings.ITERATIONS):\n",
    "                t_tt = 0\n",
    "                for j in range(self.settings.BATCH_NUMBER):\n",
    "                    func_name = [i for i in self.fabric.__dir__() if coll_name in i][0]\n",
    "                    batch = self.fabric.fake_batch(getattr(self.fabric, func_name), batch_size=self.settings.BATCH_SIZE)\n",
    "                    fields = \"id, \" + \", \".join([field for field in batch[0].keys()])\n",
    "                    values = [[str(uuid1()), *row.values()] for row in batch]\n",
    "                    places = (\"%s, \"*len(values[0]))[:-2]\n",
    "                    query = \"\"\"\n",
    "                    INSERT INTO {table} ({fields})\n",
    "                    VALUES ({places})\n",
    "                    ON CONFLICT (id) DO NOTHING\n",
    "                    \"\"\".format(\n",
    "                        table=coll_name, fields=fields, places=places\n",
    "                    )\n",
    "                    t0 = time.time()\n",
    "                    execute_batch(cur, query, values)\n",
    "                    connection.commit()\n",
    "                    t1 = time.time() - t0\n",
    "                    t_tt += t1\n",
    "                tmp.append(t_tt)\n",
    "        connection.close()\n",
    "        mean = sum(tmp) / len(tmp)\n",
    "        result = self.storage.retrieve_state()\n",
    "        if \"postgres\" not in result:\n",
    "            result[\"postgres\"] = {}\n",
    "        result[\"postgres\"].update({func_name: mean})\n",
    "        self.storage.save_state(state={\"postgres\": result[\"postgres\"]})\n",
    "        return result\n",
    "    \n",
    "    def test_read(self, coll_name: str, users: Optional[str] = None, db: str = \"ugc_db\", load: bool = False):\n",
    "        \"\"\"Тестирование чтения данных.\"\"\"\n",
    "        connection = self._connect()\n",
    "        tmp = []\n",
    "        func_name = [i for i in self.fabric.__dir__() if coll_name in i][0]\n",
    "        if not users:\n",
    "            users = choices(self.fabric.users_id, k=10)\n",
    "        if not load:\n",
    "            self.clear_collections(coll_name=coll_name)\n",
    "            for i in range(self.settings.BATCH_NUMBER):\n",
    "                with connection.cursor() as cur:\n",
    "                    batch = self.fabric.fake_batch(getattr(self.fabric, func_name), batch_size=self.settings.BATCH_SIZE)\n",
    "                    fields = \"id, \" + \", \".join([field for field in batch[0].keys()])\n",
    "                    values = [[str(uuid1()), *row.values()] for row in batch]\n",
    "                    places = (\"%s, \"*len(values[0]))[:-2]\n",
    "                    query = \"\"\"\n",
    "                    INSERT INTO {table} ({fields})\n",
    "                    VALUES ({places})\n",
    "                    ON CONFLICT (id) DO NOTHING\n",
    "                    \"\"\".format(\n",
    "                        table=coll_name, fields=fields, places=places\n",
    "                    )\n",
    "                    execute_batch(cur, query, values)\n",
    "                    connection.commit()\n",
    "        query = \"SELECT * from {table} WHERE user_id = '{user_id}';\"\n",
    "        with connection.cursor() as cur:\n",
    "            for i in range(self.settings.ITERATIONS):\n",
    "                t_tt = 0\n",
    "                for user in users:\n",
    "                    t0 = time.time()\n",
    "                    cur.execute(query.format(table=coll_name, user_id=user))\n",
    "                    result = cur.fetchall()\n",
    "                    t1 = time.time() - t0\n",
    "                    t_tt += t1\n",
    "                tmp.append(t_tt)\n",
    "        connection.close()\n",
    "        mean = sum(tmp) / len(tmp)\n",
    "        result = storage.retrieve_state()\n",
    "        if \"postgres\" not in result:\n",
    "            result[\"postgres\"] = {}\n",
    "        key = f\"{func_name}_read\" if not load else f\"{func_name}_read_load\"\n",
    "        result[\"postgres\"].update({key: mean})\n",
    "        storage.save_state(state={\"postgres\": result[\"postgres\"]})\n",
    "        return result"
   ]
  },
  {
   "cell_type": "markdown",
   "id": "5c901fe5-3b75-4fa5-8410-b8cbb89945a3",
   "metadata": {},
   "source": [
    "## Тестирование записи"
   ]
  },
  {
   "cell_type": "code",
   "execution_count": 11,
   "id": "1da189b9-8eaf-4d0f-a253-2f341fcffa71",
   "metadata": {
    "tags": []
   },
   "outputs": [
    {
     "name": "stdout",
     "output_type": "stream",
     "text": [
      "Load to collection - movie_likes\n",
      "Load docs - [1000000]\n",
      "Load to collection - movie_reviews\n",
      "Load docs - [1000000]\n",
      "Load to collection - movie_bookmarks\n",
      "Load docs - [1000000]\n",
      "{   'mongo': {   'fake_movie_bookmarks': 1.1342878341674805,\n",
      "                 'fake_movie_bookmarks_read': 0.6438698053359986,\n",
      "                 'fake_movie_bookmarks_read_load': 0.7745741367340088,\n",
      "                 'fake_movie_likes': 1.3336148977279663,\n",
      "                 'fake_movie_likes_read': 0.6684442520141601,\n",
      "                 'fake_movie_likes_read_load': 0.7780178546905517,\n",
      "                 'fake_movie_reviews': 1.4179596900939941,\n",
      "                 'fake_movie_reviews_read': 0.7365741491317749,\n",
      "                 'fake_movie_reviews_read_load': 0.870538330078125},\n",
      "    'postgres': {   'fake_movie_bookmarks': 4.28646399974823,\n",
      "                    'fake_movie_bookmarks_read': 0.008490490913391113,\n",
      "                    'fake_movie_bookmarks_read_load': 0.7745741367340088,\n",
      "                    'fake_movie_likes': 4.8035348653793335,\n",
      "                    'fake_movie_likes_read': 0.00990300178527832,\n",
      "                    'fake_movie_likes_read_load': 0.7780178546905517,\n",
      "                    'fake_movie_reviews': 5.744302678108215,\n",
      "                    'fake_movie_reviews_read': 0.00955514907836914,\n",
      "                    'fake_movie_reviews_read_load': 0.870538330078125}}\n"
     ]
    }
   ],
   "source": [
    "fabric = FabricData()\n",
    "test_storage = TestPostgres(settings=settings, fabric=fabric, storage=storage)\n",
    "lst_coll = [settings.MONGO_COLL_LIKE, settings.MONGO_COLL_REVIEW, settings.MONGO_COLL_BOOKMARK]\n",
    "for coll in lst_coll:\n",
    "    print(f\"Load to collection - {coll}\")\n",
    "    result = test_storage.test_insert(coll)\n",
    "    count = test_storage.get_count_from_coll(coll_name=coll)\n",
    "    print(f\"Load docs - {count}\")\n",
    "    test_storage.clear_collections(coll_name=coll)\n",
    "pp = pprint.PrettyPrinter(indent=4)\n",
    "pp.pprint(result)"
   ]
  },
  {
   "cell_type": "markdown",
   "id": "25d1d797-031e-4936-82e4-5083794576d4",
   "metadata": {},
   "source": [
    "## Тестирование чтения"
   ]
  },
  {
   "cell_type": "code",
   "execution_count": 26,
   "id": "b447fdea-e573-487f-9d78-1e14c7625367",
   "metadata": {
    "tags": []
   },
   "outputs": [
    {
     "name": "stdout",
     "output_type": "stream",
     "text": [
      "Load to collection - movie_likes\n",
      "Load docs - [100000]\n",
      "Load to collection - movie_reviews\n",
      "Load docs - [100000]\n",
      "Load to collection - movie_bookmarks\n",
      "Load docs - [100000]\n",
      "{   'mongo': {   'fake_movie_bookmarks': 1.1348849773406982,\n",
      "                 'fake_movie_bookmarks_read': 0.7065812349319458,\n",
      "                 'fake_movie_bookmarks_read_load': 0.7745741367340088,\n",
      "                 'fake_movie_likes': 1.3482896089553833,\n",
      "                 'fake_movie_likes_read': 0.6598688364028931,\n",
      "                 'fake_movie_likes_read_load': 0.7780178546905517,\n",
      "                 'fake_movie_reviews': 1.4877155303955079,\n",
      "                 'fake_movie_reviews_read': 0.7570814609527587,\n",
      "                 'fake_movie_reviews_read_load': 0.870538330078125},\n",
      "    'postgres': {   'fake_movie_bookmarks': 4.64122440814972,\n",
      "                    'fake_movie_bookmarks_read': 0.008490490913391113,\n",
      "                    'fake_movie_bookmarks_read_load': 0.7745741367340088,\n",
      "                    'fake_movie_likes': 4.723430275917053,\n",
      "                    'fake_movie_likes_read': 0.00990300178527832,\n",
      "                    'fake_movie_likes_read_load': 0.7780178546905517,\n",
      "                    'fake_movie_reviews': 5.624714493751526,\n",
      "                    'fake_movie_reviews_read': 0.00955514907836914,\n",
      "                    'fake_movie_reviews_read_load': 0.870538330078125}}\n"
     ]
    }
   ],
   "source": [
    "fabric = FabricData()\n",
    "USERS = choices(fabric.users_id, k=10)\n",
    "test_storage = TestPostgres(settings=settings, fabric=fabric, storage=storage)\n",
    "lst_coll = [settings.MONGO_COLL_LIKE, settings.MONGO_COLL_REVIEW, settings.MONGO_COLL_BOOKMARK]\n",
    "for coll in lst_coll:\n",
    "    print(f\"Load to collection - {coll}\")\n",
    "    result = test_storage.test_read(coll_name=coll, users=USERS)\n",
    "    count = test_storage.get_count_from_coll(coll_name=coll)\n",
    "    print(f\"Load docs - {count}\")\n",
    "pp = pprint.PrettyPrinter(indent=4)\n",
    "pp.pprint(result)"
   ]
  },
  {
   "cell_type": "code",
   "execution_count": 12,
   "id": "042db2c3-b5f4-4942-b9f6-3782fc21c3ea",
   "metadata": {
    "tags": []
   },
   "outputs": [],
   "source": [
    "import asyncio\n",
    "\n",
    "BATCH_SIZE_LOAD = settings.BATCH_SIZE_LOAD\n",
    "DELAY_LOAD = settings.DELAY_LOAD\n",
    "\n",
    "async def insert_data(fabric: FabricData, settings: BaseSettings, coll_name: str = \"movie_likes\"):\n",
    "    PG = {\n",
    "        \"database\": settings.POSTGRES_DB,\n",
    "        \"user\": settings.POSTGRES_USER,\n",
    "        \"password\": settings.POSTGRES_PASSWORD,\n",
    "        \"host\": settings.POSTGRES_DB_HOST,\n",
    "        \"port\": settings.POSTGRES_DB_PORT,\n",
    "    }\n",
    "    connection = psycopg2.connect(**PG, cursor_factory=DictCursor)\n",
    "    func_name = [i for i in fabric.__dir__() if coll_name in i][0]\n",
    "    with connection.cursor() as cur:\n",
    "        while True:\n",
    "            batch = fabric.fake_batch(getattr(fabric, func_name), batch_size=settings.BATCH_SIZE)\n",
    "            fields = \"id, \" + \", \".join([field for field in batch[0].keys()])\n",
    "            values = [[str(uuid1()), *row.values()] for row in batch]\n",
    "            places = (\"%s, \"*len(values[0]))[:-2]\n",
    "            query = \"\"\"\n",
    "            INSERT INTO {table} ({fields})\n",
    "            VALUES ({places})\n",
    "            ON CONFLICT (id) DO NOTHING\n",
    "            \"\"\".format(\n",
    "                table=coll_name, fields=fields, places=places\n",
    "            )\n",
    "            execute_batch(cur, query, values)\n",
    "            connection.commit()\n",
    "            await asyncio.sleep(DELAY_LOAD)\n",
    "\n",
    "loop = asyncio.get_event_loop()\n",
    "for coll in lst_coll:\n",
    "    loop.create_task(insert_data(fabric=fabric, settings=settings, coll_name=coll))"
   ]
  },
  {
   "cell_type": "markdown",
   "id": "e0574aef-e4f3-4ad8-a903-7ffd2d255e12",
   "metadata": {},
   "source": [
    "### Тестирование чтения при параллельной записи"
   ]
  },
  {
   "cell_type": "markdown",
   "id": "2d3ac0cf-1b34-489b-aa35-f7482791f750",
   "metadata": {},
   "source": [
    "Запустим параллельную загрузку данных в коллекции с частоной 1/DELAY_LOAD"
   ]
  },
  {
   "cell_type": "code",
   "execution_count": 13,
   "id": "58eca416-0097-4128-9fb1-0419d38f60bc",
   "metadata": {
    "tags": []
   },
   "outputs": [
    {
     "name": "stdout",
     "output_type": "stream",
     "text": [
      "Load to collection - movie_likes\n",
      "Load docs - [101000]\n",
      "Load to collection - movie_reviews\n",
      "Load docs - [101000]\n",
      "Load to collection - movie_bookmarks\n",
      "Load docs - [101000]\n",
      "{   'mongo': {   'fake_movie_bookmarks': 1.1342878341674805,\n",
      "                 'fake_movie_bookmarks_read': 0.6438698053359986,\n",
      "                 'fake_movie_bookmarks_read_load': 0.7745741367340088,\n",
      "                 'fake_movie_likes': 1.3336148977279663,\n",
      "                 'fake_movie_likes_read': 0.6684442520141601,\n",
      "                 'fake_movie_likes_read_load': 0.7780178546905517,\n",
      "                 'fake_movie_reviews': 1.4179596900939941,\n",
      "                 'fake_movie_reviews_read': 0.7365741491317749,\n",
      "                 'fake_movie_reviews_read_load': 0.870538330078125},\n",
      "    'postgres': {   'fake_movie_bookmarks': 4.28646399974823,\n",
      "                    'fake_movie_bookmarks_read': 0.008490490913391113,\n",
      "                    'fake_movie_bookmarks_read_load': 0.07726247310638427,\n",
      "                    'fake_movie_likes': 4.8035348653793335,\n",
      "                    'fake_movie_likes_read': 0.00990300178527832,\n",
      "                    'fake_movie_likes_read_load': 0.08154492378234864,\n",
      "                    'fake_movie_reviews': 5.744302678108215,\n",
      "                    'fake_movie_reviews_read': 0.00955514907836914,\n",
      "                    'fake_movie_reviews_read_load': 0.1014859676361084}}\n"
     ]
    }
   ],
   "source": [
    "fabric = FabricData()\n",
    "USERS = choices(fabric.users_id, k=10)\n",
    "test_storage = TestPostgres(settings=settings, fabric=fabric, storage=storage)\n",
    "lst_coll = [settings.MONGO_COLL_LIKE, settings.MONGO_COLL_REVIEW, settings.MONGO_COLL_BOOKMARK]\n",
    "for coll in lst_coll:\n",
    "    print(f\"Load to collection - {coll}\")\n",
    "    result = test_storage.test_read(coll_name=coll, users=USERS, load=True)\n",
    "    count = test_storage.get_count_from_coll(coll_name=coll)\n",
    "    print(f\"Load docs - {count}\")\n",
    "pp = pprint.PrettyPrinter(indent=4)\n",
    "pp.pprint(result)"
   ]
  },
  {
   "cell_type": "code",
   "execution_count": 14,
   "id": "17c53d8b-92fd-43a4-aac9-0f6a453e9476",
   "metadata": {
    "tags": []
   },
   "outputs": [],
   "source": [
    "loop.stop()"
   ]
  },
  {
   "cell_type": "code",
   "execution_count": 9,
   "id": "b6cfd36d-e59d-4f97-889d-c29824fc11b1",
   "metadata": {
    "tags": []
   },
   "outputs": [
    {
     "data": {
      "text/plain": [
       "{'mongo': {'fake_movie_bookmarks': 1.1342878341674805,\n",
       "  'fake_movie_bookmarks_read': 0.6438698053359986,\n",
       "  'fake_movie_bookmarks_read_load': 0.7745741367340088,\n",
       "  'fake_movie_likes': 1.3336148977279663,\n",
       "  'fake_movie_likes_read': 0.6684442520141601,\n",
       "  'fake_movie_likes_read_load': 0.7780178546905517,\n",
       "  'fake_movie_reviews': 1.4179596900939941,\n",
       "  'fake_movie_reviews_read': 0.7365741491317749,\n",
       "  'fake_movie_reviews_read_load': 0.870538330078125},\n",
       " 'postgres': {'fake_movie_bookmarks': 4.28646399974823,\n",
       "  'fake_movie_bookmarks_read': 0.008490490913391113,\n",
       "  'fake_movie_bookmarks_read_load': 0.07726247310638427,\n",
       "  'fake_movie_likes': 4.8035348653793335,\n",
       "  'fake_movie_likes_read': 0.00990300178527832,\n",
       "  'fake_movie_likes_read_load': 0.08154492378234864,\n",
       "  'fake_movie_reviews': 5.744302678108215,\n",
       "  'fake_movie_reviews_read': 0.00955514907836914,\n",
       "  'fake_movie_reviews_read_load': 0.1014859676361084}}"
      ]
     },
     "execution_count": 9,
     "metadata": {},
     "output_type": "execute_result"
    }
   ],
   "source": [
    "benchmarks = storage.retrieve_state()\n",
    "benchmarks"
   ]
  },
  {
   "cell_type": "markdown",
   "id": "6359475d-26ed-42ec-9be9-a2f4843db9b6",
   "metadata": {
    "tags": []
   },
   "source": [
    "# Результаты"
   ]
  },
  {
   "cell_type": "markdown",
   "id": "28c5bccc-f4fe-4894-a7ea-fd907f97ea47",
   "metadata": {
    "tags": []
   },
   "source": [
    "Таблица затрачиваемого времени для вставки 100000 записей и выборки данных (по user_id) вхранилища MongoDB и Postgres приведена ниже."
   ]
  },
  {
   "cell_type": "code",
   "execution_count": 11,
   "id": "148617d4-0808-4e85-84ee-718a4cfeb068",
   "metadata": {
    "tags": []
   },
   "outputs": [],
   "source": [
    "import pandas as pd"
   ]
  },
  {
   "cell_type": "code",
   "execution_count": 10,
   "id": "042ed9aa-1073-418e-a5ac-f9d679c13555",
   "metadata": {
    "tags": []
   },
   "outputs": [
    {
     "data": {
      "text/html": [
       "<div>\n",
       "<style scoped>\n",
       "    .dataframe tbody tr th:only-of-type {\n",
       "        vertical-align: middle;\n",
       "    }\n",
       "\n",
       "    .dataframe tbody tr th {\n",
       "        vertical-align: top;\n",
       "    }\n",
       "\n",
       "    .dataframe thead th {\n",
       "        text-align: right;\n",
       "    }\n",
       "</style>\n",
       "<table border=\"1\" class=\"dataframe\">\n",
       "  <thead>\n",
       "    <tr style=\"text-align: right;\">\n",
       "      <th></th>\n",
       "      <th>Mongo, ms</th>\n",
       "      <th>Postgres, ms</th>\n",
       "      <th>Mongo / Postgres</th>\n",
       "    </tr>\n",
       "  </thead>\n",
       "  <tbody>\n",
       "    <tr>\n",
       "      <th>fake_movie_bookmarks</th>\n",
       "      <td>1134.287834</td>\n",
       "      <td>4286.464000</td>\n",
       "      <td>3.778991</td>\n",
       "    </tr>\n",
       "    <tr>\n",
       "      <th>fake_movie_bookmarks_read</th>\n",
       "      <td>643.869805</td>\n",
       "      <td>8.490491</td>\n",
       "      <td>0.013187</td>\n",
       "    </tr>\n",
       "    <tr>\n",
       "      <th>fake_movie_bookmarks_read_load</th>\n",
       "      <td>774.574137</td>\n",
       "      <td>77.262473</td>\n",
       "      <td>0.099748</td>\n",
       "    </tr>\n",
       "    <tr>\n",
       "      <th>fake_movie_likes</th>\n",
       "      <td>1333.614898</td>\n",
       "      <td>4803.534865</td>\n",
       "      <td>3.601891</td>\n",
       "    </tr>\n",
       "    <tr>\n",
       "      <th>fake_movie_likes_read</th>\n",
       "      <td>668.444252</td>\n",
       "      <td>9.903002</td>\n",
       "      <td>0.014815</td>\n",
       "    </tr>\n",
       "    <tr>\n",
       "      <th>fake_movie_likes_read_load</th>\n",
       "      <td>778.017855</td>\n",
       "      <td>81.544924</td>\n",
       "      <td>0.104811</td>\n",
       "    </tr>\n",
       "    <tr>\n",
       "      <th>fake_movie_reviews</th>\n",
       "      <td>1417.959690</td>\n",
       "      <td>5744.302678</td>\n",
       "      <td>4.051104</td>\n",
       "    </tr>\n",
       "    <tr>\n",
       "      <th>fake_movie_reviews_read</th>\n",
       "      <td>736.574149</td>\n",
       "      <td>9.555149</td>\n",
       "      <td>0.012972</td>\n",
       "    </tr>\n",
       "    <tr>\n",
       "      <th>fake_movie_reviews_read_load</th>\n",
       "      <td>870.538330</td>\n",
       "      <td>101.485968</td>\n",
       "      <td>0.116578</td>\n",
       "    </tr>\n",
       "  </tbody>\n",
       "</table>\n",
       "</div>"
      ],
      "text/plain": [
       "                                  Mongo, ms  Postgres, ms  Mongo / Postgres\n",
       "fake_movie_bookmarks            1134.287834   4286.464000          3.778991\n",
       "fake_movie_bookmarks_read        643.869805      8.490491          0.013187\n",
       "fake_movie_bookmarks_read_load   774.574137     77.262473          0.099748\n",
       "fake_movie_likes                1333.614898   4803.534865          3.601891\n",
       "fake_movie_likes_read            668.444252      9.903002          0.014815\n",
       "fake_movie_likes_read_load       778.017855     81.544924          0.104811\n",
       "fake_movie_reviews              1417.959690   5744.302678          4.051104\n",
       "fake_movie_reviews_read          736.574149      9.555149          0.012972\n",
       "fake_movie_reviews_read_load     870.538330    101.485968          0.116578"
      ]
     },
     "execution_count": 10,
     "metadata": {},
     "output_type": "execute_result"
    }
   ],
   "source": [
    "table = pd.DataFrame.from_dict(benchmarks)\n",
    "table.columns = [\"Mongo, ms\", \"Postgres, ms\"]\n",
    "table = table.iloc[:,:]*1000\n",
    "table[\"Mongo / Postgres\"] = table.iloc[:,-1] / table.iloc[:,-2]\n",
    "table"
   ]
  },
  {
   "cell_type": "code",
   "execution_count": 27,
   "id": "417d2fa3-8487-4b92-95e3-8f4fa14fd144",
   "metadata": {
    "tags": []
   },
   "outputs": [
    {
     "data": {
      "image/png": "[encoded data removed]",
      "text/plain": [
       "<Figure size 1500x1000 with 1 Axes>"
      ]
     },
     "metadata": {},
     "output_type": "display_data"
    }
   ],
   "source": [
    "import matplotlib.pyplot as plt\n",
    "import numpy as np\n",
    "\n",
    "plt.rcParams.update({'font.size': 14})\n",
    "\n",
    "labels = table.index.values.tolist()\n",
    "mongo = [value*1000 if value else 0 for value in table.iloc[:, 0].tolist()]\n",
    "postgres = [value*1000 if value else 0 for value in table.iloc[:, 1].tolist()]\n",
    "\n",
    "x = np.arange(len(labels))\n",
    "width = 0.2\n",
    "\n",
    "fig, ax = plt.subplots(figsize=(15,10))\n",
    "rects1 = ax.barh(x - width/2, mongo, width, label='MongoDB')\n",
    "rects2 = ax.barh(x + width/2, postgres, width, label='Postgres')\n",
    "\n",
    "ax.set_xlabel('Time, ms')\n",
    "ax.set_title('Time benchmarks')\n",
    "ax.set_yticks(x)\n",
    "ax.set_yticklabels(labels)\n",
    "ax.legend()\n",
    "\n",
    "plt.show()"
   ]
  },
  {
   "cell_type": "markdown",
   "id": "b1e4c4da-b42f-4f49-9a65-51b423f4fa92",
   "metadata": {},
   "source": [
    "Из полученных данных хранилище PostgreSQL уступает MongoDB в скорости записи, однако существенно превосходит последнюю в скорости чтения. MongoDB проще масштабируется и документоориентирована, в связи с чем была выбрано, как основное хранилище данных лайков, рецензий и закладок."
   ]
  }
 ],
 "metadata": {
  "kernelspec": {
   "display_name": "Python 3 (ipykernel)",
   "language": "python",
   "name": "python3"
  },
  "language_info": {
   "codemirror_mode": {
    "name": "ipython",
    "version": 3
   },
   "file_extension": ".py",
   "mimetype": "text/x-python",
   "name": "python",
   "nbconvert_exporter": "python",
   "pygments_lexer": "ipython3",
   "version": "3.10.9"
  }
 },
 "nbformat": 4,
 "nbformat_minor": 5
}
